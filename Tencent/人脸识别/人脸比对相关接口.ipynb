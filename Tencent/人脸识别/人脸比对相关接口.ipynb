{
 "cells": [
  {
   "cell_type": "code",
   "execution_count": 2,
   "metadata": {},
   "outputs": [],
   "source": [
    "# \n",
    "import json\n",
    "import cv2\n",
    "from tencentcloud.common import credential\n",
    "from tencentcloud.common.profile.client_profile import ClientProfile\n",
    "from tencentcloud.common.profile.http_profile import HttpProfile\n",
    "from tencentcloud.common.exception.tencent_cloud_sdk_exception import TencentCloudSDKException\n",
    "from tencentcloud.iai.v20200303 import iai_client, models\n",
    "import base64\n",
    "import matplotlib.pyplot as plt\n",
    "%matplotlib inline\n",
    "import warnings\n",
    "warnings.filterwarnings(\"ignore\")\n",
    "with open(\"../tencent_key.json\" ,'r') as key:\n",
    "    SecretDict=json.loads(key.read())\n",
    "SecretId=SecretDict[\"SecretId\"]\n",
    "SecretKey=SecretDict[\"SecretKey\"]"
   ]
  },
  {
   "cell_type": "code",
   "execution_count": 3,
   "metadata": {},
   "outputs": [
    {
     "name": "stderr",
     "output_type": "stream",
     "text": [
      "d:\\python\\venv(data_analysis)\\lib\\site-packages\\tencentcloud\\iai\\v20200303\\models.py:419: UserWarning: NeedRotateDetection fileds are useless.\n",
      "  warnings.warn(\"%s fileds are useless.\" % \",\".join(memeber_set))\n"
     ]
    },
    {
     "name": "stdout",
     "output_type": "stream",
     "text": [
      "{'Score': 98.62047576904297, 'FaceModelVersion': '3.0', 'RequestId': 'eed02c7e-0819-4488-8fa4-8232fc33ee01'}\n"
     ]
    }
   ],
   "source": [
    "\"\"\"\n",
    "https://cloud.tencent.com/document/product/867/44987\n",
    "\"\"\"\n",
    "try: \n",
    "    cred = credential.Credential(SecretId, SecretKey) \n",
    "    httpProfile = HttpProfile()\n",
    "    httpProfile.endpoint = \"iai.tencentcloudapi.com\"\n",
    "\n",
    "    clientProfile = ClientProfile()\n",
    "    clientProfile.httpProfile = httpProfile\n",
    "    client = iai_client.IaiClient(cred, \"ap-beijing\", clientProfile) \n",
    "    with open(\"./images/test2.jpg\",\"rb\") as file:\n",
    "        img1=base64.b64encode(file.read()) \n",
    "    with open(\"./images/test3.jpg\",\"rb\") as file:\n",
    "        img2=base64.b64encode(file.read()) \n",
    "    req = models.CompareMaskFaceRequest()\n",
    "    \"\"\"\n",
    "    QualityControl 图片质量控制。\n",
    "    0: 不进行控制；\n",
    "    1:较低的质量要求，图像存在非常模糊，眼睛鼻子嘴巴遮挡至少其中一种或多种的情况；\n",
    "    2: 一般的质量要求，图像存在偏亮，偏暗，模糊或一般模糊，眉毛遮挡，脸颊遮挡，下巴遮挡，至少其中三种的情况；\n",
    "    3: 较高的质量要求，图像存在偏亮，偏暗，一般模糊，眉毛遮挡，脸颊遮挡，下巴遮挡，其中一到两种的情况；\n",
    "    4: 很高的质量要求，各个维度均为最好或最多在某一维度上存在轻微问题；\n",
    "    \"\"\"\n",
    "    params = {\n",
    "        \"ImageA\": str(img1, encoding='utf-8'), \n",
    "        \"ImageB\": str(img2, encoding='utf-8'), \n",
    "        \"QualityControl\": 0, \n",
    "        \"NeedRotateDetection\":0 # 是否开启图片旋转识别支持。0为不开启，1为开启。默认为0\n",
    "        \n",
    "    }\n",
    "    req.from_json_string(json.dumps(params))\n",
    "\n",
    "    resp = client.CompareMaskFace(req).to_json_string()\n",
    "    resp=json.loads(resp)\n",
    "    print(resp) \n",
    "\n",
    "except TencentCloudSDKException as err: \n",
    "    print(err) "
   ]
  },
  {
   "cell_type": "code",
   "execution_count": 8,
   "metadata": {},
   "outputs": [
    {
     "name": "stdout",
     "output_type": "stream",
     "text": [
      "{'Score': 100, 'FaceModelVersion': '3.0', 'RequestId': '595e9ab5-d19b-4ec0-829a-e43388b98996'}\n"
     ]
    }
   ],
   "source": [
    "\"\"\"\n",
    "https://cloud.tencent.com/document/product/867/44987\n",
    "\"\"\"\n",
    "try: \n",
    "    cred = credential.Credential(SecretId, SecretKey) \n",
    "    httpProfile = HttpProfile()\n",
    "    httpProfile.endpoint = \"iai.tencentcloudapi.com\"\n",
    "\n",
    "    clientProfile = ClientProfile()\n",
    "    clientProfile.httpProfile = httpProfile\n",
    "    client = iai_client.IaiClient(cred, \"ap-beijing\", clientProfile) \n",
    "    \n",
    "    req = models.CompareMaskFaceRequest() # 戴口罩人脸比对\n",
    "#     req = models.CompareFaceRequest() # 人脸比对\n",
    "    \"\"\"\n",
    "    QualityControl 图片质量控制。\n",
    "    0: 不进行控制；\n",
    "    1:较低的质量要求，图像存在非常模糊，眼睛鼻子嘴巴遮挡至少其中一种或多种的情况；\n",
    "    2: 一般的质量要求，图像存在偏亮，偏暗，模糊或一般模糊，眉毛遮挡，脸颊遮挡，下巴遮挡，至少其中三种的情况；\n",
    "    3: 较高的质量要求，图像存在偏亮，偏暗，一般模糊，眉毛遮挡，脸颊遮挡，下巴遮挡，其中一到两种的情况；\n",
    "    4: 很高的质量要求，各个维度均为最好或最多在某一维度上存在轻微问题；\n",
    "    \"\"\"\n",
    "    params = {\n",
    "        \n",
    "        \"UrlA\": \"https://img1.baidu.com/it/u=2710574087,1299208283&fm=15&fmt=auto&gp=0.jpg\",\n",
    "        \"UrlB\": \"https://img0.baidu.com/it/u=2405174165,3195841151&fm=26&fmt=auto&gp=0.jpg\",\n",
    "        \"QualityControl\": 0, \n",
    "        \"NeedRotateDetection\":0 # 是否开启图片旋转识别支持。0为不开启，1为开启。默认为0\n",
    "        \n",
    "    }\n",
    "    req.from_json_string(json.dumps(params))\n",
    "\n",
    "    resp = client.CompareMaskFace(req).to_json_string() # 戴口罩人脸比对\n",
    "#     resp = client.CompareFace(req)  # 人脸比对\n",
    "    \n",
    "\n",
    "\n",
    "    resp=json.loads(resp)\n",
    "    print(resp) \n",
    "\n",
    "except TencentCloudSDKException as err: \n",
    "    print(err) "
   ]
  }
 ],
 "metadata": {
  "kernelspec": {
   "display_name": "Python 3",
   "language": "python",
   "name": "python3"
  },
  "language_info": {
   "codemirror_mode": {
    "name": "ipython",
    "version": 3
   },
   "file_extension": ".py",
   "mimetype": "text/x-python",
   "name": "python",
   "nbconvert_exporter": "python",
   "pygments_lexer": "ipython3",
   "version": "3.6.13"
  }
 },
 "nbformat": 4,
 "nbformat_minor": 1
}