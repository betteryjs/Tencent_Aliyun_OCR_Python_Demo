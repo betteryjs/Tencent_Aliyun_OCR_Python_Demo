{
 "cells": [
  {
   "cell_type": "code",
   "execution_count": 2,
   "metadata": {},
   "outputs": [],
   "source": [
    "# \n",
    "import json\n",
    "import cv2\n",
    "from tencentcloud.common import credential\n",
    "from tencentcloud.common.profile.client_profile import ClientProfile\n",
    "from tencentcloud.common.profile.http_profile import HttpProfile\n",
    "from tencentcloud.common.exception.tencent_cloud_sdk_exception import TencentCloudSDKException\n",
    "from tencentcloud.iai.v20200303 import iai_client, models\n",
    "import base64\n",
    "import matplotlib.pyplot as plt\n",
    "%matplotlib inline\n",
    "import warnings\n",
    "warnings.filterwarnings(\"ignore\")\n",
    "with open(\"../tencent_key.json\" ,'r') as key:\n",
    "    SecretDict=json.loads(key.read())\n",
    "SecretId=SecretDict[\"SecretId\"]\n",
    "SecretKey=SecretDict[\"SecretKey\"]"
   ]
  },
  {
   "cell_type": "code",
   "execution_count": 4,
   "metadata": {},
   "outputs": [
    {
     "name": "stdout",
     "output_type": "stream",
     "text": [
      "{'Score': 68, 'FaceModelVersion': '3.0', 'RequestId': '473beefe-0e4e-4c83-9608-a98c1449dd87'}\n"
     ]
    }
   ],
   "source": [
    "\"\"\"\n",
    "https://console.cloud.tencent.com/api\n",
    "/explorer?Product=iai&Version=2020-03-03&Action=DetectLiveFaceAccurate&SignVersion=\n",
    "\"\"\"\n",
    "try: \n",
    "    cred = credential.Credential(SecretId, SecretKey) \n",
    "    httpProfile = HttpProfile()\n",
    "    httpProfile.endpoint = \"iai.tencentcloudapi.com\"\n",
    "\n",
    "    clientProfile = ClientProfile()\n",
    "    clientProfile.httpProfile = httpProfile\n",
    "    client = iai_client.IaiClient(cred, \"ap-beijing\", clientProfile) \n",
    "    with open(\"./images/test3.jpg\",\"rb\") as file:\n",
    "        img=base64.b64encode(file.read()) \n",
    "    req = models.DetectLiveFaceAccurateRequest() # 人脸静态活体检测（高精度版）\n",
    "#     req = models.DetectLiveFaceRequest() # 人脸静态活体检测\n",
    "\n",
    "    params = {\n",
    "        \"Image\": str(img, encoding='utf-8'), \n",
    "#         \"Url\": \"\"\n",
    "    }\n",
    "    req.from_json_string(json.dumps(params))\n",
    "\n",
    "    resp = client.DetectLiveFaceAccurate(req).to_json_string() # 人脸静态活体检测（高精度版）\n",
    "#     resp = client.DetectLiveFace(req).to_json_string() # 人脸静态活体检测\n",
    "    resp=json.loads(resp)\n",
    "    print(resp) \n",
    "\n",
    "except TencentCloudSDKException as err: \n",
    "    print(err) "
   ]
  }
 ],
 "metadata": {
  "kernelspec": {
   "display_name": "Python 3",
   "language": "python",
   "name": "python3"
  },
  "language_info": {
   "codemirror_mode": {
    "name": "ipython",
    "version": 3
   },
   "file_extension": ".py",
   "mimetype": "text/x-python",
   "name": "python",
   "nbconvert_exporter": "python",
   "pygments_lexer": "ipython3",
   "version": "3.6.13"
  }
 },
 "nbformat": 4,
 "nbformat_minor": 1
}