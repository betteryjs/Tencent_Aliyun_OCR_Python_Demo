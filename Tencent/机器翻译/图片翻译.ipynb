{
 "cells": [
  {
   "cell_type": "code",
   "execution_count": 2,
   "metadata": {},
   "outputs": [],
   "source": [
    "# \n",
    "import json\n",
    "import cv2\n",
    "import requests\n",
    "import uuid\n",
    "from tencentcloud.common import credential\n",
    "from tencentcloud.common.profile.client_profile import ClientProfile\n",
    "from tencentcloud.common.profile.http_profile import HttpProfile\n",
    "from tencentcloud.common.exception.tencent_cloud_sdk_exception import TencentCloudSDKException\n",
    "\n",
    "from tencentcloud.tmt.v20180321 import tmt_client\n",
    "from tencentcloud.tmt.v20180321 import models as tmt_models\n",
    "\n",
    "import numpy as np\n",
    "import base64\n",
    "import matplotlib.pyplot as plt\n",
    "%matplotlib inline\n",
    "import warnings\n",
    "warnings.filterwarnings(\"ignore\")\n",
    "with open(\"../tencent_key.json\" ,'r') as key:\n",
    "    SecretDict=json.loads(key.read())\n",
    "SecretId=SecretDict[\"SecretId\"]\n",
    "SecretKey=SecretDict[\"SecretKey\"]"
   ]
  },
  {
   "cell_type": "code",
   "execution_count": 3,
   "metadata": {},
   "outputs": [
    {
     "name": "stdout",
     "output_type": "stream",
     "text": [
      "{'SessionUuid': '6f0143ef-91d9-46f3-bd7a-7878510defa6', 'Source': 'en', 'Target': 'zh', 'ImageRecord': {'Value': [{'SourceText': 'These socially responsible ETFs', 'TargetText': '', 'X': 50, 'Y': 58, 'W': 492, 'H': 36}, {'SourceText': 'cater to ESG investors.', 'TargetText': '', 'X': 54, 'Y': 98, 'W': 350, 'H': 28}, {'SourceText': 'Investors around the world are embracing strategies', 'TargetText': '', 'X': 54, 'Y': 148, 'W': 520, 'H': 22}, {'SourceText': 'that align with their personal values as well as their', 'TargetText': '', 'X': 50, 'Y': 180, 'W': 512, 'H': 22}, {'SourceText': 'pocketbooks. The clearest evidence of this is the rise', 'TargetText': '', 'X': 50, 'Y': 212, 'W': 532, 'H': 28}, {'SourceText': 'of exchange-traded funds with an expressed desire to', 'TargetText': '', 'X': 54, 'Y': 244, 'W': 532, 'H': 28}, {'SourceText': 'filter investments based on environmental, social and', 'TargetText': '', 'X': 50, 'Y': 278, 'W': 536, 'H': 26}, {'SourceText': 'corporate governance characteristics - or so-called', 'TargetText': '', 'X': 54, 'Y': 314, 'W': 512, 'H': 22}, {'SourceText': '\"ESG\" qualities. Last year, ESG ETF assets surpassed', 'TargetText': '', 'X': 54, 'Y': 346, 'W': 524, 'H': 24}, {'SourceText': 'CREDIT', 'TargetText': '', 'X': 944, 'Y': 278, 'W': 68, 'H': 18}, {'SourceText': '问', 'TargetText': '', 'X': 928, 'Y': 278, 'W': 20, 'H': 18}, {'SourceText': '$190 billion and accounted for almost 13% of global ETF asset growth, and that pace has not', 'TargetText': '', 'X': 54, 'Y': 378, 'W': 926, 'H': 28}, {'SourceText': 'slowed down with a projected footprint of $53 trillion by 2025,according to Bloomberg. So what', 'TargetText': '', 'X': 54, 'Y': 412, 'W': 954, 'H': 26}, {'SourceText': 'are the leading funds capturing investors interest right now? Here are seven socially responsible', 'TargetText': '', 'X': 54, 'Y': 444, 'W': 957, 'H': 26}, {'SourceText': 'ESG ETFs to consider. All of them boast a few billion dollars under management.', 'TargetText': '', 'X': 54, 'Y': 476, 'W': 800, 'H': 28}]}, 'RequestId': '5ae5a320-c0ea-47b0-b639-94670666a46e'}\n"
     ]
    }
   ],
   "source": [
    "\"\"\"\n",
    "图片翻译\n",
    "\n",
    "https://console.cloud.tencent.com/api\n",
    "/explorer?Product=tmt&Version=2018-03-21&Action=ImageTranslate&SignVersion=\n",
    "\"\"\"\n",
    "try: \n",
    "    cred = credential.Credential(SecretId, SecretKey) \n",
    "    httpProfile = HttpProfile()\n",
    "    httpProfile.endpoint = \"tmt.tencentcloudapi.com\"\n",
    "\n",
    "    clientProfile = ClientProfile()\n",
    "    clientProfile.httpProfile = httpProfile\n",
    "    client = tmt_client.TmtClient(cred, \"ap-beijing\", clientProfile) \n",
    "    img_path=\"./images/en1.jpg\"\n",
    "    with open(img_path,\"rb\") as file:\n",
    "        img=base64.b64encode(file.read()) \n",
    "    req = tmt_models.ImageTranslateRequest()\n",
    "    \n",
    "    params = {\n",
    "        \"SessionUuid\": str(uuid.uuid4()),\n",
    "        \"Scene\": \"doc\",\n",
    "        \"Data\": str(img,encoding='utf-8'), \n",
    "        \"Source\": \"auto\",\n",
    "        \"Target\": \"zh\",\n",
    "        \"ProjectId\": 0\n",
    "    }\n",
    "    req.from_json_string(json.dumps(params))\n",
    "\n",
    "    resp = client.ImageTranslate(req).to_json_string() \n",
    "    resp=json.loads(resp)\n",
    "    print(resp)  \n",
    "\n",
    "\n",
    "except TencentCloudSDKException as err: \n",
    "    print(err) "
   ]
  }
 ],
 "metadata": {
  "kernelspec": {
   "display_name": "Python 3",
   "language": "python",
   "name": "python3"
  },
  "language_info": {
   "codemirror_mode": {
    "name": "ipython",
    "version": 3
   },
   "file_extension": ".py",
   "mimetype": "text/x-python",
   "name": "python",
   "nbconvert_exporter": "python",
   "pygments_lexer": "ipython3",
   "version": "3.6.13"
  }
 },
 "nbformat": 4,
 "nbformat_minor": 1
}