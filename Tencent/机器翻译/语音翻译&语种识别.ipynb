{
 "cells": [
  {
   "cell_type": "code",
   "execution_count": 3,
   "metadata": {},
   "outputs": [],
   "source": [
    "# \n",
    "import json\n",
    "import cv2\n",
    "import requests\n",
    "import uuid\n",
    "from tencentcloud.common import credential\n",
    "from tencentcloud.common.profile.client_profile import ClientProfile\n",
    "from tencentcloud.common.profile.http_profile import HttpProfile\n",
    "from tencentcloud.common.exception.tencent_cloud_sdk_exception import TencentCloudSDKException\n",
    "\n",
    "from tencentcloud.tmt.v20180321 import tmt_client\n",
    "from tencentcloud.tmt.v20180321 import models as tmt_models\n",
    "\n",
    "import numpy as np\n",
    "import base64\n",
    "import matplotlib.pyplot as plt\n",
    "%matplotlib inline\n",
    "import warnings\n",
    "warnings.filterwarnings(\"ignore\")\n",
    "with open(\"../tencent_key.json\" ,'r') as key:\n",
    "    SecretDict=json.loads(key.read())\n",
    "SecretId=SecretDict[\"SecretId\"]\n",
    "SecretKey=SecretDict[\"SecretKey\"]"
   ]
  },
  {
   "cell_type": "code",
   "execution_count": 8,
   "metadata": {},
   "outputs": [
    {
     "name": "stdout",
     "output_type": "stream",
     "text": [
      "{'SessionUuid': '2fce3636-6a56-402b-ac81-bee5f758341d', 'RecognizeStatus': 1, 'SourceText': '', 'TargetText': '', 'Seq': 0, 'Source': 'zh', 'Target': 'en', 'VadSeq': 0, 'RequestId': 'f7698b49-1461-4927-9f63-136e3274e1f2'}\n"
     ]
    }
   ],
   "source": [
    "video_path=\"./video/output.mp3\"\n",
    "with open(video_path,\"rb\") as file:\n",
    "\n",
    "    video=base64.b64encode(file.read()) \n",
    "Data=str(video , encoding='utf-8')\n",
    "\n",
    "try: \n",
    "    cred = credential.Credential(SecretId, SecretKey) \n",
    "    httpProfile = HttpProfile()\n",
    "    httpProfile.endpoint = \"tmt.tencentcloudapi.com\"\n",
    "\n",
    "    clientProfile = ClientProfile()\n",
    "    clientProfile.httpProfile = httpProfile\n",
    "    client = tmt_client.TmtClient(cred, \"ap-beijing\", clientProfile) \n",
    "\n",
    "    req = tmt_models.SpeechTranslateRequest()\n",
    "    params = {\n",
    "        \"SessionUuid\": str(uuid.uuid4()),\n",
    "        \"Source\": \"zh\",\n",
    "        \"Target\": \"en\",\n",
    "        \"AudioFormat\": 83886080,\n",
    "        \"Seq\": 0,\n",
    "        \"IsEnd\": 0,\n",
    "        \"Data\": Data,\n",
    "        \"ProjectId\": 0\n",
    "    }\n",
    "    req.from_json_string(json.dumps(params))\n",
    "\n",
    "    resp = client.SpeechTranslate(req).to_json_string() \n",
    "    resp=json.loads(resp)\n",
    "    print(resp) \n",
    " \n",
    "\n",
    "except TencentCloudSDKException as err: \n",
    "    print(err) "
   ]
  },
  {
   "cell_type": "code",
   "execution_count": null,
   "metadata": {},
   "outputs": [],
   "source": [
    "# 语种识别\n",
    "\n",
    "import json\n",
    "from tencentcloud.common import credential\n",
    "from tencentcloud.common.profile.client_profile import ClientProfile\n",
    "from tencentcloud.common.profile.http_profile import HttpProfile\n",
    "from tencentcloud.common.exception.tencent_cloud_sdk_exception import TencentCloudSDKException\n",
    "from tencentcloud.tmt.v20180321 import tmt_client, models\n",
    "try: \n",
    "    cred = credential.Credential(\"SecretId\", \"SecretKey\") \n",
    "    httpProfile = HttpProfile()\n",
    "    httpProfile.endpoint = \"tmt.tencentcloudapi.com\"\n",
    "\n",
    "    clientProfile = ClientProfile()\n",
    "    clientProfile.httpProfile = httpProfile\n",
    "    client = tmt_client.TmtClient(cred, \"ap-beijing\", clientProfile) \n",
    "\n",
    "    req = tmt_models.LanguageDetectRequest()\n",
    "    Text=\"\"\"\n",
    "    \n",
    "    \"\"\"\n",
    "    params = {\n",
    "        \"Text\": \"\",\n",
    "        \"ProjectId\": 0\n",
    "    }\n",
    "    req.from_json_string(json.dumps(params))\n",
    "\n",
    "    resp = client.LanguageDetect(req) \n",
    "    print(resp.to_json_string()) \n",
    "\n",
    "except TencentCloudSDKException as err: \n",
    "    print(err) "
   ]
  },
  {
   "cell_type": "code",
   "execution_count": null,
   "metadata": {},
   "outputs": [],
   "source": []
  },
  {
   "cell_type": "code",
   "execution_count": null,
   "metadata": {},
   "outputs": [],
   "source": []
  },
  {
   "cell_type": "code",
   "execution_count": null,
   "metadata": {},
   "outputs": [],
   "source": []
  },
  {
   "cell_type": "code",
   "execution_count": null,
   "metadata": {},
   "outputs": [],
   "source": []
  }
 ],
 "metadata": {
  "kernelspec": {
   "display_name": "Python 3",
   "language": "python",
   "name": "python3"
  },
  "language_info": {
   "codemirror_mode": {
    "name": "ipython",
    "version": 3
   },
   "file_extension": ".py",
   "mimetype": "text/x-python",
   "name": "python",
   "nbconvert_exporter": "python",
   "pygments_lexer": "ipython3",
   "version": "3.6.13"
  }
 },
 "nbformat": 4,
 "nbformat_minor": 1
}