{
 "cells": [
  {
   "cell_type": "code",
   "execution_count": 1,
   "metadata": {},
   "outputs": [],
   "source": [
    "# \n",
    "import json\n",
    "import cv2\n",
    "import requests\n",
    "from tencentcloud.common import credential\n",
    "from tencentcloud.common.profile.client_profile import ClientProfile\n",
    "from tencentcloud.common.profile.http_profile import HttpProfile\n",
    "from tencentcloud.common.exception.tencent_cloud_sdk_exception import TencentCloudSDKException\n",
    "from tencentcloud.tiia.v20190529 import tiia_client\n",
    "from tencentcloud.tiia.v20190529 import models as tiia_models\n",
    "\n",
    "import numpy as np\n",
    "import base64\n",
    "import matplotlib.pyplot as plt\n",
    "%matplotlib inline\n",
    "import warnings\n",
    "warnings.filterwarnings(\"ignore\")\n",
    "with open(\"../tencent_key.json\" ,'r') as key:\n",
    "    SecretDict=json.loads(key.read())\n",
    "SecretId=SecretDict[\"SecretId\"]\n",
    "SecretKey=SecretDict[\"SecretKey\"]"
   ]
  },
  {
   "cell_type": "code",
   "execution_count": 6,
   "metadata": {},
   "outputs": [
    {
     "name": "stdout",
     "output_type": "stream",
     "text": [
      "{'Products': [{'Name': 'CPU', 'Parents': '电脑、办公-电脑配件', 'Confidence': 99, 'XMin': 50, 'YMin': 84, 'XMax': 391, 'YMax': 430}], 'RequestId': 'd449dcf5-a46e-4e0e-a3ff-0965d2e628cc'}\n"
     ]
    }
   ],
   "source": [
    "\"\"\"\n",
    "商品识别-微信识物版\n",
    "https://console.cloud.tencent.com/api\n",
    "/explorer?Product=tiia&Version=2019-05-29&Action=DetectProductBeta&SignVersion=\n",
    "\"\"\"\n",
    "try: \n",
    "    cred = credential.Credential(SecretId, SecretKey) \n",
    "    httpProfile = HttpProfile()\n",
    "    httpProfile.endpoint = \"tiia.tencentcloudapi.com\"\n",
    "\n",
    "    clientProfile = ClientProfile()\n",
    "    clientProfile.httpProfile = httpProfile\n",
    "    client = tiia_client.TiiaClient(cred, \"ap-beijing\", clientProfile) \n",
    "    img_path=\"./images/amdR7.jpg\"\n",
    "    with open(img_path,\"rb\") as file:\n",
    "        img=base64.b64encode(file.read()) \n",
    "    req = tiia_models.DetectProductRequest()\n",
    "    params = {\n",
    "#         \"ImageUrl\": \"\",\n",
    "        \"ImageBase64\": str(img, encoding='utf-8'), \n",
    "    }\n",
    "    req.from_json_string(json.dumps(params))\n",
    "\n",
    "    resp = client.DetectProduct(req).to_json_string()\n",
    "    resp=json.loads(resp)\n",
    "    print(resp) \n",
    "\n",
    "except TencentCloudSDKException as err: \n",
    "    print(err) "
   ]
  },
  {
   "cell_type": "code",
   "execution_count": 17,
   "metadata": {},
   "outputs": [
    {
     "name": "stdout",
     "output_type": "stream",
     "text": [
      "{'Labels': [{'Name': '品牌', 'Confidence': 54, 'FirstCategory': '物品', 'SecondCategory': '标牌标识'}, {'Name': '多媒体', 'Confidence': 17, 'FirstCategory': '物品', 'SecondCategory': '其他'}, {'Name': '字体', 'Confidence': 13, 'FirstCategory': '其他', 'SecondCategory': '其他'}, {'Name': '广告', 'Confidence': 13, 'FirstCategory': '其他', 'SecondCategory': '其他'}, {'Name': '小工具', 'Confidence': 11, 'FirstCategory': '物品', 'SecondCategory': '工具'}], 'CameraLabels': None, 'AlbumLabels': None, 'NewsLabels': None, 'RequestId': '03693e1d-0a42-4072-b479-48797ad95488'}\n"
     ]
    }
   ],
   "source": [
    "\"\"\"\n",
    "https://console.cloud.tencent.com/\n",
    "api/explorer?Product=tiia&Version=2019-05-29&Action=DetectLabel&SignVersion=\n",
    "图像标签\n",
    "\"\"\"\n",
    "\n",
    "try: \n",
    "    cred = credential.Credential(SecretId,SecretKey) \n",
    "    httpProfile = HttpProfile()\n",
    "    httpProfile.endpoint = \"tiia.tencentcloudapi.com\"\n",
    "\n",
    "    clientProfile = ClientProfile()\n",
    "    clientProfile.httpProfile = httpProfile\n",
    "    client = tiia_client.TiiaClient(cred, \"ap-beijing\", clientProfile) \n",
    "    img_path=\"./images/amdR7.jpg\"\n",
    "    with open(img_path,\"rb\") as file:\n",
    "        img=base64.b64encode(file.read()) \n",
    "    req = tiia_models.DetectLabelRequest()\n",
    "    params = {\n",
    "#         \"ImageUrl\": \"\",\n",
    "        \"ImageBase64\": str(img, encoding='utf-8'), \n",
    "#         \"Scenes\": [ \"WEB\" ,\"CAMERA\",\"ALBUM\",\"NEWS\"],\n",
    "        \"Scenes\": [ \"WEB\" ],\n",
    "\n",
    "    }\n",
    "    \"\"\"\n",
    "    本次调用支持的识别场景，可选值如下： \n",
    "    WEB，针对网络图片优化; \n",
    "    CAMERA，针对手机摄像头拍摄图片优化; \n",
    "    ALBUM，针对手机相册、网盘产品优化; \n",
    "    NEWS，针对新闻、资讯、广电等行业优化； \n",
    "    \"\"\"\n",
    "    req.from_json_string(json.dumps(params))\n",
    "\n",
    "    resp = client.DetectLabel(req).to_json_string() \n",
    "    resp=json.loads(resp)\n",
    "    print(resp) \n",
    "\n",
    "except TencentCloudSDKException as err: \n",
    "    print(err) "
   ]
  },
  {
   "cell_type": "code",
   "execution_count": 21,
   "metadata": {},
   "outputs": [
    {
     "name": "stdout",
     "output_type": "stream",
     "text": [
      "名字 : 品牌 置信度 : 54 标签的一级分类 : 物品 标签的二级分类 : 标牌标识 \n",
      "名字 : 多媒体 置信度 : 17 标签的一级分类 : 物品 标签的二级分类 : 其他 \n",
      "名字 : 字体 置信度 : 13 标签的一级分类 : 其他 标签的二级分类 : 其他 \n",
      "名字 : 广告 置信度 : 13 标签的一级分类 : 其他 标签的二级分类 : 其他 \n",
      "名字 : 小工具 置信度 : 11 标签的一级分类 : 物品 标签的二级分类 : 工具 \n"
     ]
    }
   ],
   "source": [
    "resp['Labels']\n",
    "for label in resp['Labels']:\n",
    "    \n",
    "    print(\"名字 : {} 置信度 : {} 标签的一级分类 : {} 标签的二级分类 : {} \".format(\n",
    "            label[\"Name\"],\n",
    "            label[\"Confidence\"],\n",
    "            label[\"FirstCategory\"],\n",
    "            label[\"SecondCategory\"],\n",
    "    ))"
   ]
  },
  {
   "cell_type": "code",
   "execution_count": 27,
   "metadata": {},
   "outputs": [
    {
     "name": "stdout",
     "output_type": "stream",
     "text": [
      "{'Faces': [{'Name': '周杰', 'Labels': [{'FirstLabel': '娱乐明星', 'SecondLabel': '影视明星'}], 'BasicInfo': '中国，男性，演员', 'Confidence': 100, 'X': 67, 'Y': 39, 'Width': 60, 'Height': 78, 'ID': '50000061'}], 'Threshold': {'FalseRate1Percent': 80, 'FalseRate5Permil': 85, 'FalseRate1Permil': 90}, 'RequestId': 'd1db2cab-d789-41d1-86fb-7bf8e1bc5aef'}\n"
     ]
    }
   ],
   "source": [
    "\"\"\"\n",
    "https://console.cloud.tencent.com/\n",
    "api/explorer?Product=tiia&Version=2019-05-29&Action=DetectCelebrity&SignVersion=\n",
    "公众人物识别\n",
    "\"\"\"\n",
    "try: \n",
    "    cred = credential.Credential(SecretId, SecretKey) \n",
    "    httpProfile = HttpProfile()\n",
    "    httpProfile.endpoint = \"tiia.tencentcloudapi.com\"\n",
    "\n",
    "    clientProfile = ClientProfile()\n",
    "    clientProfile.httpProfile = httpProfile\n",
    "    client = tiia_client.TiiaClient(cred, \"ap-beijing\", clientProfile) \n",
    "    img_path=\"./images/周杰.jpg\"\n",
    "    with open(img_path,\"rb\") as file:\n",
    "        img=base64.b64encode(file.read()) \n",
    "    req = tiia_models.DetectCelebrityRequest()\n",
    "    params = {\n",
    "#         \"ImageUrl\": \"\",\n",
    "        \"ImageBase64\": str(img, encoding='utf-8'), \n",
    "    }\n",
    "    req.from_json_string(json.dumps(params))\n",
    "\n",
    "    resp = client.DetectCelebrity(req).to_json_string() \n",
    "    resp=json.loads(resp)\n",
    "    print(resp) \n",
    "\n",
    "except TencentCloudSDKException as err: \n",
    "    print(err) "
   ]
  },
  {
   "cell_type": "code",
   "execution_count": 24,
   "metadata": {
    "collapsed": true
   },
   "outputs": [
    {
     "data": {
      "text/plain": [
       "'\\n名称\\t类型\\t描述\\nName\\tString\\t与图片中人脸最相似的公众人物的名字。\\nLabels\\tArray of Labels\\t公众人物身份标签的数组，一个公众人物可能有多个身份标签。\\nBasicInfo\\tString\\t对人物的简介。\\nConfidence\\tInteger\\t算法对于Name的置信度（图像中人脸与公众人物的相似度），0-100之间，值越高，表示对于Name越确定。\\nX\\tInteger\\t人脸区域左上角横坐标。\\nY\\tInteger\\t人脸区域左上角纵坐标。\\nWidth\\tInteger\\t人脸区域宽度。\\nHeight\\tInteger\\t人脸区域高度。\\nID\\tString\\t公众人物的唯一编号，可以用于区分同名人物、一个人物不同称呼等情况。唯一编号为8个字符构成的字符串。\\n注意：此字段可能返回 null，表示取不到有效值。\\n'"
      ]
     },
     "execution_count": 24,
     "metadata": {},
     "output_type": "execute_result"
    }
   ],
   "source": [
    "\"\"\"\n",
    "名称\t类型\t描述\n",
    "Name\tString\t与图片中人脸最相似的公众人物的名字。\n",
    "Labels\tArray of Labels\t公众人物身份标签的数组，一个公众人物可能有多个身份标签。\n",
    "BasicInfo\tString\t对人物的简介。\n",
    "Confidence\tInteger\t算法对于Name的置信度（图像中人脸与公众人物的相似度），0-100之间，值越高，表示对于Name越确定。\n",
    "X\tInteger\t人脸区域左上角横坐标。\n",
    "Y\tInteger\t人脸区域左上角纵坐标。\n",
    "Width\tInteger\t人脸区域宽度。\n",
    "Height\tInteger\t人脸区域高度。\n",
    "ID\tString\t公众人物的唯一编号，可以用于区分同名人物、一个人物不同称呼等情况。唯一编号为8个字符构成的字符串。\n",
    "注意：此字段可能返回 null，表示取不到有效值。\n",
    "\"\"\""
   ]
  },
  {
   "cell_type": "code",
   "execution_count": 28,
   "metadata": {},
   "outputs": [
    {
     "data": {
      "text/plain": [
       "[{'Name': '周杰',\n",
       "  'Labels': [{'FirstLabel': '娱乐明星', 'SecondLabel': '影视明星'}],\n",
       "  'BasicInfo': '中国，男性，演员',\n",
       "  'Confidence': 100,\n",
       "  'X': 67,\n",
       "  'Y': 39,\n",
       "  'Width': 60,\n",
       "  'Height': 78,\n",
       "  'ID': '50000061'}]"
      ]
     },
     "execution_count": 28,
     "metadata": {},
     "output_type": "execute_result"
    }
   ],
   "source": [
    "resp['Faces']"
   ]
  }
 ],
 "metadata": {
  "kernelspec": {
   "display_name": "Python 3",
   "language": "python",
   "name": "python3"
  },
  "language_info": {
   "codemirror_mode": {
    "name": "ipython",
    "version": 3
   },
   "file_extension": ".py",
   "mimetype": "text/x-python",
   "name": "python",
   "nbconvert_exporter": "python",
   "pygments_lexer": "ipython3",
   "version": "3.6.13"
  }
 },
 "nbformat": 4,
 "nbformat_minor": 1
}