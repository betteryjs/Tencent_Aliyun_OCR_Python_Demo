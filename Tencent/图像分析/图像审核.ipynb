{
 "cells": [
  {
   "cell_type": "code",
   "execution_count": 2,
   "metadata": {},
   "outputs": [],
   "source": [
    "# \n",
    "import json\n",
    "import cv2\n",
    "import requests\n",
    "import numpy as np\n",
    "import base64\n",
    "import matplotlib.pyplot as plt\n",
    "%matplotlib inline\n",
    "import warnings\n",
    "warnings.filterwarnings(\"ignore\")\n",
    "from tencentcloud.common import credential\n",
    "from tencentcloud.common.profile.client_profile import ClientProfile\n",
    "from tencentcloud.common.profile.http_profile import HttpProfile\n",
    "from tencentcloud.common.exception.tencent_cloud_sdk_exception import TencentCloudSDKException\n",
    "from tencentcloud.tiia.v20190529 import tiia_client\n",
    "from tencentcloud.tiia.v20190529 import models as tiia_models\n",
    "\n",
    "with open(\"../tencent_key.json\" ,'r') as key:\n",
    "    SecretDict=json.loads(key.read())\n",
    "SecretId=SecretDict[\"SecretId\"]\n",
    "SecretKey=SecretDict[\"SecretKey\"]"
   ]
  },
  {
   "cell_type": "code",
   "execution_count": 8,
   "metadata": {},
   "outputs": [
    {
     "name": "stdout",
     "output_type": "stream",
     "text": [
      "{'Confidence': 0.72, 'Type': '吸毒', 'RequestId': '0ac58e1c-dd99-4987-8399-de1ccb150a4a'}\n"
     ]
    }
   ],
   "source": [
    "\"\"\"\n",
    "https://console.cloud.tencent.com/api\n",
    "/explorer?Product=tiia&Version=2019-05-29&Action=DetectMisbehavior&SignVersion=\n",
    "不良行为识别\n",
    "\"\"\"\n",
    "try: \n",
    "    cred = credential.Credential(SecretId, SecretKey) \n",
    "    httpProfile = HttpProfile()\n",
    "    httpProfile.endpoint = \"tiia.tencentcloudapi.com\"\n",
    "\n",
    "    clientProfile = ClientProfile()\n",
    "    clientProfile.httpProfile = httpProfile\n",
    "    client = tiia_client.TiiaClient(cred, \"ap-beijing\", clientProfile) \n",
    "    img_path=\"./images/吸毒.jpg\"\n",
    "    with open(img_path,\"rb\") as file:\n",
    "        img=base64.b64encode(file.read()) \n",
    "    req = tiia_models.DetectMisbehaviorRequest()\n",
    "    params = {\n",
    "#         \"ImageUrl\": \"\",\n",
    "        \"ImageBase64\": str(img, encoding='utf-8'), \n",
    "    }\n",
    "    req.from_json_string(json.dumps(params))\n",
    "\n",
    "    resp = client.DetectMisbehavior(req).to_json_string()\n",
    "    resp=json.loads(resp)\n",
    "    print(resp)\n",
    "    \"\"\"\n",
    "    Confidence\tFloat\t对于图片中包含不良行为的置信度，取值[0,1]，一般超过0.5则表明可能包含不良行为内容；\n",
    "    Type\tString\t图像中最可能包含的不良行为类别，包括赌博、打架斗殴、吸毒等。\n",
    "    \"\"\"\n",
    "\n",
    "\n",
    "except TencentCloudSDKException as err: \n",
    "    print(err) "
   ]
  },
  {
   "cell_type": "code",
   "execution_count": 16,
   "metadata": {},
   "outputs": [
    {
     "name": "stdout",
     "output_type": "stream",
     "text": [
      "{'Confidence': 1, 'Type': '虫子', 'RequestId': '62533307-1c81-482e-9a3f-71776205f395'}\n"
     ]
    }
   ],
   "source": [
    "\"\"\"\n",
    "https://console.cloud.tencent.com/api\n",
    "/explorer?Product=tiia&Version=2019-05-29&Action=DetectDisgust&SignVersion=\n",
    "恶心检测\n",
    "\"\"\"\n",
    "\n",
    "\n",
    "import json\n",
    "from tencentcloud.common import credential\n",
    "from tencentcloud.common.profile.client_profile import ClientProfile\n",
    "from tencentcloud.common.profile.http_profile import HttpProfile\n",
    "from tencentcloud.common.exception.tencent_cloud_sdk_exception import TencentCloudSDKException\n",
    "from tencentcloud.tiia.v20190529 import tiia_client, models\n",
    "try: \n",
    "    cred = credential.Credential(SecretId, SecretKey) \n",
    "    httpProfile = HttpProfile()\n",
    "    httpProfile.endpoint = \"tiia.tencentcloudapi.com\"\n",
    "\n",
    "    clientProfile = ClientProfile()\n",
    "    clientProfile.httpProfile = httpProfile\n",
    "    client = tiia_client.TiiaClient(cred, \"ap-beijing\", clientProfile) \n",
    "    img_path=\"./images/虫子.jpg\"\n",
    "    with open(img_path,\"rb\") as file:\n",
    "        img=base64.b64encode(file.read()) \n",
    "    req = tiia_models.DetectDisgustRequest()\n",
    "    params = {\n",
    "#         \"ImageUrl\": \"\",\n",
    "        \"ImageBase64\": str(img, encoding='utf-8'), \n",
    "    }\n",
    "    req.from_json_string(json.dumps(params))\n",
    "\n",
    "    resp = client.DetectDisgust(req).to_json_string() \n",
    "    resp=json.loads(resp)\n",
    "    print(resp)\n",
    "    \"\"\"\n",
    "    Confidence\tFloat\t对于图片中包含恶心内容的置信度，取值[0,1]，一般超过0.5则表明可能是恶心图片。\n",
    "    Type\tString\t与图像内容最相似的恶心内容的类别，包含腐烂、密集、畸形、血腥、蛇、虫子、牙齿等。\n",
    "    \"\"\"\n",
    "except TencentCloudSDKException as err: \n",
    "    print(err) \n"
   ]
  },
  {
   "cell_type": "code",
   "execution_count": 20,
   "metadata": {},
   "outputs": [
    {
     "name": "stdout",
     "output_type": "stream",
     "text": [
      "{'LongImage': False, 'BlackAndWhite': False, 'SmallImage': False, 'BigImage': False, 'PureImage': False, 'ClarityScore': 5, 'AestheticScore': 7, 'RequestId': '0fcca43a-f516-4fd2-97a4-dc9fb6a46325'}\n"
     ]
    }
   ],
   "source": [
    "\"\"\"\n",
    "https://console.cloud.tencent.com/api\n",
    "/explorer?Product=tiia&Version=2019-05-29&Action=AssessQuality&SignVersion=\n",
    "图像质量评估\n",
    "\"\"\"\n",
    "try: \n",
    "    cred = credential.Credential(SecretId, SecretKey) \n",
    "    httpProfile = HttpProfile()\n",
    "    httpProfile.endpoint = \"tiia.tencentcloudapi.com\"\n",
    "\n",
    "    clientProfile = ClientProfile()\n",
    "    clientProfile.httpProfile = httpProfile\n",
    "    client = tiia_client.TiiaClient(cred, \"ap-beijing\", clientProfile) \n",
    "    img_path=\"./images/模糊图片2.jpg\"\n",
    "    with open(img_path,\"rb\") as file:\n",
    "        img=base64.b64encode(file.read()) \n",
    "    req = tiia_models.AssessQualityRequest()\n",
    "    params = {\n",
    "#         \"ImageUrl\": \"\",\n",
    "        \"ImageBase64\": str(img, encoding='utf-8'), \n",
    "    }\n",
    "    req.from_json_string(json.dumps(params))\n",
    "\n",
    "    resp = client.AssessQuality(req).to_json_string() \n",
    "    resp=json.loads(resp)\n",
    "    print(resp)\n",
    "\n",
    "except TencentCloudSDKException as err: \n",
    "    print(err) "
   ]
  },
  {
   "cell_type": "code",
   "execution_count": null,
   "metadata": {},
   "outputs": [],
   "source": [
    "\"\"\"\n",
    "LongImage\tBoolean\t取值为TRUE或FALSE，TRUE为长图，FALSE为正常图，长图定义为长宽比大于等于3或小于等于1/3的图片。\n",
    "BlackAndWhite\tBoolean\t取值为TRUE或FALSE，TRUE为黑白图，FALSE为否。黑白图即灰度图，指红绿蓝三个通道都是以灰度色阶显示的图片，并非视觉上的“黑白图片”。\n",
    "SmallImage\tBoolean\t取值为TRUE或FALSE，TRUE为小图，FALSE为否, 小图定义为最长边小于179像素的图片。当一张图片被判断为小图时，不建议做推荐和展示，其他字段统一输出为0或FALSE。\n",
    "BigImage\tBoolean\t取值为TRUE或FALSE，TRUE为大图，FALSE为否，定义为最短边大于1000像素的图片\n",
    "PureImage\tBoolean\t取值为TRUE或FALSE，TRUE为纯色图或纯文字图，即没有内容或只有简单内容的图片，FALSE为正常图片。\n",
    "ClarityScore\tInteger\t综合评分。图像清晰度的得分，对图片的噪声、曝光、模糊、压缩等因素进行综合评估，取值为[0, 100]，值越大，越清晰。一般大于50为较清晰图片，标准可以自行把握。\n",
    "AestheticScore\tInteger\t综合评分。图像美观度得分， 从构图、色彩等多个艺术性维度评价图片，取值为[0, 100]，值越大，越美观。一般大于50为较美观图片，标准可以自行把握。\n",
    "RequestId\tString\t唯一请求 ID，每次请求都会返回。定位问题时需要提供该次请求的 RequestId\n",
    "\"\"\""
   ]
  }
 ],
 "metadata": {
  "kernelspec": {
   "display_name": "Python 3",
   "language": "python",
   "name": "python3"
  },
  "language_info": {
   "codemirror_mode": {
    "name": "ipython",
    "version": 3
   },
   "file_extension": ".py",
   "mimetype": "text/x-python",
   "name": "python",
   "nbconvert_exporter": "python",
   "pygments_lexer": "ipython3",
   "version": "3.6.13"
  }
 },
 "nbformat": 4,
 "nbformat_minor": 1
}