{
 "cells": [
  {
   "cell_type": "code",
   "execution_count": 36,
   "metadata": {},
   "outputs": [],
   "source": [
    "# \n",
    "import json\n",
    "import cv2\n",
    "import requests\n",
    "from tencentcloud.common import credential\n",
    "from tencentcloud.common.profile.client_profile import ClientProfile\n",
    "from tencentcloud.common.profile.http_profile import HttpProfile\n",
    "from tencentcloud.common.exception.tencent_cloud_sdk_exception import TencentCloudSDKException\n",
    "from tencentcloud.tiia.v20190529 import tiia_client\n",
    "from tencentcloud.tiia.v20190529 import models as tiia_models\n",
    "\n",
    "\n",
    "import numpy as np\n",
    "import base64\n",
    "import matplotlib.pyplot as plt\n",
    "%matplotlib inline\n",
    "import warnings\n",
    "warnings.filterwarnings(\"ignore\")\n",
    "with open(\"../tencent_key.json\" ,'r') as key:\n",
    "    SecretDict=json.loads(key.read())\n",
    "SecretId=SecretDict[\"SecretId\"]\n",
    "SecretKey=SecretDict[\"SecretKey\"]"
   ]
  },
  {
   "cell_type": "code",
   "execution_count": 38,
   "metadata": {},
   "outputs": [
    {
     "name": "stdout",
     "output_type": "stream",
     "text": [
      "{'RegionDetected': [{'Category': '食品饮料', 'CategoryScore': 0.500353515148, 'Location': {'XMin': 136, 'YMin': 160, 'XMax': 682, 'YMax': 740}}], 'ProductInfo': {'FindSKU': 1, 'Location': {'XMin': 136, 'YMin': 160, 'XMax': 682, 'YMax': 740}, 'Name': 'AMD处理器', 'Brand': 'amd', 'Price': '￥6999', 'ProductCategory': '食品饮料', 'Score': 0.806417703629, 'Image': 'https://wxamusic.wx.qq.com/wxasr/getminipic/7GbuxKLGviafvzKrFTvO5dLa84-ILmXIza0VZgRfIqv4D7kkKNyICoN14-6ASMwm?media-id=7GbuxKLGviafvzKrFTvO5dLa84-ILmXIza0VZgRfIqv4D7kkKNyICoN14-6ASMwm&appid=wxeb5d1f826d7998df'}, 'ProductInfoList': [{'FindSKU': 1, 'Location': {'XMin': 0, 'YMin': 0, 'XMax': 0, 'YMax': 0}, 'Name': 'AMD五代锐龙 R7 5800X', 'Brand': '', 'Price': '暂无', 'ProductCategory': '食品饮料', 'Score': 0, 'Image': 'https://wxamusic.wx.qq.com/wxasr/getminipic/e8tcGiHLdXV5132_LVByKfP1ElMGAnagRhYrjZ9jAOUVStb30QoKAKoueEqXH7Km?media-id=e8tcGiHLdXV5132_LVByKfP1ElMGAnagRhYrjZ9jAOUVStb30QoKAKoueEqXH7Km&appid=wxeb5d1f826d7998df'}, {'FindSKU': 1, 'Location': {'XMin': 0, 'YMin': 0, 'XMax': 0, 'YMax': 0}, 'Name': 'AMD 锐龙 9 5950X CPU处理器 16核32线程 3.4GHz', 'Brand': '', 'Price': '￥6049', 'ProductCategory': '食品饮料', 'Score': 0, 'Image': 'https://wxamusic.wx.qq.com/wxasr/getminipic/7GbuxKLGviafvzKrFTvO5dLa84-ILmXIza0VZgRfIqv4D7kkKNyICoN14-6ASMwm?media-id=7GbuxKLGviafvzKrFTvO5dLa84-ILmXIza0VZgRfIqv4D7kkKNyICoN14-6ASMwm&appid=wxeb5d1f826d7998df'}, {'FindSKU': 1, 'Location': {'XMin': 0, 'YMin': 0, 'XMax': 0, 'YMax': 0}, 'Name': 'AMD锐龙55600X处理器(r5)7nm6核12线程3.7GHz65WAM4接口盒装CPU', 'Brand': '', 'Price': '￥2019', 'ProductCategory': '食品饮料', 'Score': 0, 'Image': 'https://wxamusic.wx.qq.com/wxasr/getminipic/I5XyWolwC3ztDOsvUvFb0BzWq22Nph8b-3ApYyl_eOc5Au4rflYgoPGGWkrG6L-q?media-id=I5XyWolwC3ztDOsvUvFb0BzWq22Nph8b-3ApYyl_eOc5Au4rflYgoPGGWkrG6L-q&appid=wx91d27dbf599dff74'}, {'FindSKU': 1, 'Location': {'XMin': 0, 'YMin': 0, 'XMax': 0, 'YMax': 0}, 'Name': '手慢无：AMD Ryzen 5 5600X 6C12T 3.7GHz AM4 处理器', 'Brand': '', 'Price': '￥300', 'ProductCategory': '食品饮料', 'Score': 0, 'Image': 'https://wxamusic.wx.qq.com/wxasr/getminipic/dgY2HfNFvpLDo1_97xyvIAipx30wN0c6278EN5N6ACeijF64P5kPp3zGCfKsR0jY?media-id=dgY2HfNFvpLDo1_97xyvIAipx30wN0c6278EN5N6ACeijF64P5kPp3zGCfKsR0jY&appid=wx960922a13ecf666b'}, {'FindSKU': 1, 'Location': {'XMin': 0, 'YMin': 0, 'XMax': 0, 'YMax': 0}, 'Name': 'AMD Ryzen 7 5800X 8C16T 处理器', 'Brand': '', 'Price': '￥449', 'ProductCategory': '食品饮料', 'Score': 0, 'Image': 'https://wxamusic.wx.qq.com/wxasr/getminipic/Cap7MlDpF7H_2JGND9fBOeM0GR_PRfSu_Li_O7VzZJ8vCAmdf9n8P8oEkcsDRX7n?media-id=Cap7MlDpF7H_2JGND9fBOeM0GR_PRfSu_Li_O7VzZJ8vCAmdf9n8P8oEkcsDRX7n&appid=wx960922a13ecf666b'}, {'FindSKU': 1, 'Location': {'XMin': 0, 'YMin': 0, 'XMax': 0, 'YMax': 0}, 'Name': 'AMD  5800X  处理器  7nm 8核16线程 3.8GHz PCIe 4.0 AM4接口 盒装CPU', 'Brand': '', 'Price': '￥3199', 'ProductCategory': '食品饮料', 'Score': 0, 'Image': 'https://wxamusic.wx.qq.com/wxasr/getminipic/OaQjvRPPVs0JtHcLmqKPHkhI4FRKSvVKZK-d4BLLEqPo5h6Keh2f8SHGJGyQ8eIH?media-id=OaQjvRPPVs0JtHcLmqKPHkhI4FRKSvVKZK-d4BLLEqPo5h6Keh2f8SHGJGyQ8eIH&appid=wxeb5d1f826d7998df'}, {'FindSKU': 1, 'Location': {'XMin': 0, 'YMin': 0, 'XMax': 0, 'YMax': 0}, 'Name': 'AMD Ryzen 7 5800X 8C16T 处理器', 'Brand': '', 'Price': '￥449', 'ProductCategory': '食品饮料', 'Score': 0, 'Image': 'https://wxamusic.wx.qq.com/wxasr/getminipic/X9vNz9CrmRrCjRS-X-G31w2l3Ybwk4sjElTrttA12T58O6mr_Z8Ic6xFXfax2bfW?media-id=X9vNz9CrmRrCjRS-X-G31w2l3Ybwk4sjElTrttA12T58O6mr_Z8Ic6xFXfax2bfW&appid=wx960922a13ecf666b'}, {'FindSKU': 1, 'Location': {'XMin': 0, 'YMin': 0, 'XMax': 0, 'YMax': 0}, 'Name': '新品AMD 五代锐龙R5 5600X R7 5800X R9 5900X 5950X盒装CPU处理器 R7-5800X盒装', 'Brand': '', 'Price': '￥3199', 'ProductCategory': '食品饮料', 'Score': 0, 'Image': 'https://wxamusic.wx.qq.com/wxasr/getminipic/YqwVD9iNB5OZ_o2KyizYM32UgMv5rzSPYOJmwYS9h4qB5Xf-5_HnvD_SW1oA9GMZ?media-id=YqwVD9iNB5OZ_o2KyizYM32UgMv5rzSPYOJmwYS9h4qB5Xf-5_HnvD_SW1oA9GMZ&appid=wx1edf489cb248852c'}, {'FindSKU': 1, 'Location': {'XMin': 0, 'YMin': 0, 'XMax': 0, 'YMax': 0}, 'Name': 'AMD锐龙75800X处理器(r7)7nm8核16线程3.8GHz105WAM4接口盒装CPU', 'Brand': '', 'Price': '￥2999', 'ProductCategory': '食品饮料', 'Score': 0, 'Image': 'https://wxamusic.wx.qq.com/wxasr/getminipic/xA1CyzyA5kujUfkKOX-WuCDFj5VywdqujZhksrw6ID4dYTHGHxnchLMgNwRxKUwz?media-id=xA1CyzyA5kujUfkKOX-WuCDFj5VywdqujZhksrw6ID4dYTHGHxnchLMgNwRxKUwz&appid=wxca1fe42a16552094'}, {'FindSKU': 1, 'Location': {'XMin': 0, 'YMin': 0, 'XMax': 0, 'YMax': 0}, 'Name': 'AMD五代锐龙R95950X5900搭微星华硕华擎B550/X570主板CPU套装P盘单CPU无主板R95900X套装', 'Brand': '', 'Price': '￥4699', 'ProductCategory': '食品饮料', 'Score': 0, 'Image': 'https://wxamusic.wx.qq.com/wxasr/getminipic/5oZPDjyAPVx_lTeAPv0VGXst4Qd0VONJzv5GR6zGIOpy2g4FQ4v07tUjqfPSSPMX?media-id=5oZPDjyAPVx_lTeAPv0VGXst4Qd0VONJzv5GR6zGIOpy2g4FQ4v07tUjqfPSSPMX&appid=wx91d27dbf599dff74'}, {'FindSKU': 1, 'Location': {'XMin': 0, 'YMin': 0, 'XMax': 0, 'YMax': 0}, 'Name': '众说纷纭：AMD Ryzen 锐龙9 5900X CPU处理器 12核心24线程 3.7GHz ', 'Brand': '', 'Price': '暂无', 'ProductCategory': '食品饮料', 'Score': 0, 'Image': 'https://wxamusic.wx.qq.com/wxasr/getminipic/rshnHyRFlZdMkXv4caOUyet5myiJJ2FhN84UZqYuaxmEXL_mh0YHe3pwVHFUZnNB?media-id=rshnHyRFlZdMkXv4caOUyet5myiJJ2FhN84UZqYuaxmEXL_mh0YHe3pwVHFUZnNB&appid=wxeb5d1f826d7998df'}, {'FindSKU': 1, 'Location': {'XMin': 0, 'YMin': 0, 'XMax': 0, 'YMax': 0}, 'Name': 'AMD Ryzen 5 5600X 6C12T 3.7GHz AM4 处理器', 'Brand': '', 'Price': '￥299', 'ProductCategory': '食品饮料', 'Score': 0, 'Image': 'https://wxamusic.wx.qq.com/wxasr/getminipic/kSJUwzTYtmEP3hnBCKOxVso-f4pXGoWT3QFiZDFlzDp6xBLvhZxyEfr2bCb1bpZ7?media-id=kSJUwzTYtmEP3hnBCKOxVso-f4pXGoWT3QFiZDFlzDp6xBLvhZxyEfr2bCb1bpZ7&appid=wx960922a13ecf666b'}, {'FindSKU': 1, 'Location': {'XMin': 0, 'YMin': 0, 'XMax': 0, 'YMax': 0}, 'Name': 'AMD锐龙R9/R7/R55950X/5900X/5800X/5600XAM4盒装CPU处理器锐龙R95900X12核24线程3.7GHz', 'Brand': '', 'Price': '￥3899', 'ProductCategory': '食品饮料', 'Score': 0, 'Image': 'https://wxamusic.wx.qq.com/wxasr/getminipic/fK8Nk12y8gdgXO_9ZK_JrOHkDBB5v4-j6FoUD0X1TI4CZSMfoXuMpIaRcE4a9xYM?media-id=fK8Nk12y8gdgXO_9ZK_JrOHkDBB5v4-j6FoUD0X1TI4CZSMfoXuMpIaRcE4a9xYM&appid=wx91d27dbf599dff74'}, {'FindSKU': 1, 'Location': {'XMin': 0, 'YMin': 0, 'XMax': 0, 'YMax': 0}, 'Name': 'AMD 锐龙 5 5600X CPU处理器 6核12线程 3.7GHz', 'Brand': '', 'Price': '暂无', 'ProductCategory': '食品饮料', 'Score': 0, 'Image': 'https://wxamusic.wx.qq.com/wxasr/getminipic/J5jMCwzcSUdDEOCdgbQ-jlpMW1oLVh1UWXwIHUb68WnK3lMIt-uOkEzMhxwD_wJF?media-id=J5jMCwzcSUdDEOCdgbQ-jlpMW1oLVh1UWXwIHUb68WnK3lMIt-uOkEzMhxwD_wJF&appid=wxeb5d1f826d7998df'}, {'FindSKU': 1, 'Location': {'XMin': 0, 'YMin': 0, 'XMax': 0, 'YMax': 0}, 'Name': 'AMD五代锐龙R95950X5900搭微星华硕华擎B550/X570主板CPU套装华擎B550MSteelLegend（钢铁传奇R95900X套装', 'Brand': '', 'Price': '￥5549', 'ProductCategory': '食品饮料', 'Score': 0, 'Image': 'https://wxamusic.wx.qq.com/wxasr/getminipic/wnAphreQrdPv3nzDX3iXFeB6pbxwqVNaoUuHjTKM-C9pxjc6wcEouVGPnX7QoASA?media-id=wnAphreQrdPv3nzDX3iXFeB6pbxwqVNaoUuHjTKM-C9pxjc6wcEouVGPnX7QoASA&appid=wx91d27dbf599dff74'}, {'FindSKU': 1, 'Location': {'XMin': 0, 'YMin': 0, 'XMax': 0, 'YMax': 0}, 'Name': 'AMD 锐龙五代R5/R7 5600X 5800X盒搭华硕B550技嘉雕主板CPU处理器AM4套装 华硕 STRIX B550-A GAMING 吹雪 R5 5600X 6核12线程 3.7GHz', 'Brand': '', 'Price': '￥3799', 'ProductCategory': '食品饮料', 'Score': 0, 'Image': 'https://wxamusic.wx.qq.com/wxasr/getminipic/TAgUt4DlAWBa3j0G4HLbmVoowQOXsi5VxDuevdmpyrKq4Qg6WAgQU15Na5Ze_EXr?media-id=TAgUt4DlAWBa3j0G4HLbmVoowQOXsi5VxDuevdmpyrKq4Qg6WAgQU15Na5Ze_EXr&appid=wx91d27dbf599dff74'}, {'FindSKU': 1, 'Location': {'XMin': 0, 'YMin': 0, 'XMax': 0, 'YMax': 0}, 'Name': '京东 AMD 锐龙R7 3700X 3800X R9 3900X 5800x 技嘉X570 主板CPU套装 B550M DS3H R7 3700X [3.6GHz/8核16线程]', 'Brand': '', 'Price': '￥2799', 'ProductCategory': '食品饮料', 'Score': 0, 'Image': 'https://wxamusic.wx.qq.com/wxasr/getminipic/fruh6uGv4dW5CTeryCIOHWkRyxsQr7aCSBPpEy05tPwuLWJ_NaNrsSGe8AJYPT9q?media-id=fruh6uGv4dW5CTeryCIOHWkRyxsQr7aCSBPpEy05tPwuLWJ_NaNrsSGe8AJYPT9q&appid=wxca060021c274cb02'}, {'FindSKU': 1, 'Location': {'XMin': 0, 'YMin': 0, 'XMax': 0, 'YMax': 0}, 'Name': '华硕（ASUS）B550 M-ATX主板搭配AMD 锐龙R5处理器套装 支持PCI-E 4.0 R5 3500X+PRIME B550M-A套装', 'Brand': '', 'Price': '暂无', 'ProductCategory': '食品饮料', 'Score': 0, 'Image': 'https://wxamusic.wx.qq.com/wxasr/getminipic/ybmS9FH0Ru3m2V9HPI_n--rw62z1w8BcXHkBgxf-l8DuBlyLlDxefaicMIkFSc3W?media-id=ybmS9FH0Ru3m2V9HPI_n--rw62z1w8BcXHkBgxf-l8DuBlyLlDxefaicMIkFSc3W&appid=wx91d27dbf599dff74'}, {'FindSKU': 1, 'Location': {'XMin': 0, 'YMin': 0, 'XMax': 0, 'YMax': 0}, 'Name': 'AMD R7 5800X CPU盒装处理器搭铭瑄B550终结者游戏主板cpu套装', 'Brand': '', 'Price': '￥3299', 'ProductCategory': '食品饮料', 'Score': 0, 'Image': 'https://wxamusic.wx.qq.com/wxasr/getminipic/_Qv6gI47K5HfK2lgiiJ_N-zVen0EpNdu6oWKWLwGTmtuj67hSLLgL9jYzQ5G24TA?media-id=_Qv6gI47K5HfK2lgiiJ_N-zVen0EpNdu6oWKWLwGTmtuj67hSLLgL9jYzQ5G24TA&appid=wxeb5d1f826d7998df'}, {'FindSKU': 1, 'Location': {'XMin': 0, 'YMin': 0, 'XMax': 0, 'YMax': 0}, 'Name': 'AMD锐龙五代R5/R75600X5800X盒搭华硕B550技嘉雕主板CPU处理器AM4套装华硕C8FR95950X16核32线程3.4GHz', 'Brand': '', 'Price': '暂无', 'ProductCategory': '食品饮料', 'Score': 0, 'Image': 'https://m.360buyimg.com/mobilecms/s800x800_jfs/t1/160777/16/15530/214151/6062ee56Ee42f8c09/bebc8b6e435dfc18.jpg!q70.dpg'}], 'RequestId': '496934f7-6d7d-4a15-bcd9-d9c977b42744'}\n"
     ]
    }
   ],
   "source": [
    "\n",
    "try: \n",
    "    cred = credential.Credential(SecretId, SecretKey) \n",
    "    httpProfile = HttpProfile()\n",
    "    httpProfile.endpoint = \"tiia.tencentcloudapi.com\"\n",
    "\n",
    "    clientProfile = ClientProfile()\n",
    "    clientProfile.httpProfile = httpProfile\n",
    "    client = tiia_client.TiiaClient(cred, \"ap-beijing\", clientProfile) \n",
    "    img_path=\"./images/amdR7.jpg\"\n",
    "    with open(img_path,\"rb\") as file:\n",
    "        img=base64.b64encode(file.read()) \n",
    "    req = tiia_models.DetectProductBetaRequest()\n",
    "    params = {\n",
    "#         \"ImageUrl\": \"\",\n",
    "        \"ImageBase64\": str(img, encoding='utf-8'), \n",
    "    }\n",
    "    req.from_json_string(json.dumps(params))\n",
    "\n",
    "    resp = client.DetectProductBeta(req).to_json_string()\n",
    "    resp=json.loads(resp)\n",
    "    print(resp)  \n",
    "   \n",
    "\n",
    "except TencentCloudSDKException as err: \n",
    "    print(err) "
   ]
  },
  {
   "cell_type": "code",
   "execution_count": 39,
   "metadata": {},
   "outputs": [
    {
     "data": {
      "text/plain": [
       "''"
      ]
     },
     "execution_count": 39,
     "metadata": {},
     "output_type": "execute_result"
    }
   ],
   "source": [
    "\"\"\"\n",
    "gionDetected\tArray of RegionDetected\t检测到的图片中的商品位置和品类预测。\n",
    "当图片中存在多个商品时，输出多组坐标，按照显著性排序（综合考虑面积、是否在中心、检测算法置信度）。\n",
    "最多可以输出3组检测结果。\n",
    "ProductInfo\tProductInfo\t图像识别出的商品的详细信息。\n",
    "当图像中检测到多个物品时，会对显著性最高的进行识别。\n",
    "ProductInfoList\tArray of ProductInfo\t相似商品信息列表\n",
    "注意：此字段可能返回 null，表示取不到有效值。\n",
    "\"\"\""
   ]
  },
  {
   "cell_type": "code",
   "execution_count": 43,
   "metadata": {},
   "outputs": [
    {
     "data": {
      "text/plain": [
       "[{'Category': '食品饮料',\n",
       "  'CategoryScore': 0.500353515148,\n",
       "  'Location': {'XMin': 136, 'YMin': 160, 'XMax': 682, 'YMax': 740}}]"
      ]
     },
     "execution_count": 43,
     "metadata": {},
     "output_type": "execute_result"
    }
   ],
   "source": [
    "RegionDetected=resp[\"RegionDetected\"]\n",
    "RegionDetected"
   ]
  },
  {
   "cell_type": "code",
   "execution_count": 44,
   "metadata": {},
   "outputs": [
    {
     "data": {
      "text/plain": [
       "{'FindSKU': 1,\n",
       " 'Location': {'XMin': 136, 'YMin': 160, 'XMax': 682, 'YMax': 740},\n",
       " 'Name': 'AMD处理器',\n",
       " 'Brand': 'amd',\n",
       " 'Price': '￥6999',\n",
       " 'ProductCategory': '食品饮料',\n",
       " 'Score': 0.806417703629,\n",
       " 'Image': 'https://wxamusic.wx.qq.com/wxasr/getminipic/7GbuxKLGviafvzKrFTvO5dLa84-ILmXIza0VZgRfIqv4D7kkKNyICoN14-6ASMwm?media-id=7GbuxKLGviafvzKrFTvO5dLa84-ILmXIza0VZgRfIqv4D7kkKNyICoN14-6ASMwm&appid=wxeb5d1f826d7998df'}"
      ]
     },
     "execution_count": 44,
     "metadata": {},
     "output_type": "execute_result"
    }
   ],
   "source": [
    "ProductInfo=resp[\"ProductInfo\"]\n",
    "ProductInfo"
   ]
  },
  {
   "cell_type": "code",
   "execution_count": 45,
   "metadata": {
    "collapsed": true
   },
   "outputs": [
    {
     "data": {
      "text/plain": [
       "[{'FindSKU': 1,\n",
       "  'Location': {'XMin': 0, 'YMin': 0, 'XMax': 0, 'YMax': 0},\n",
       "  'Name': 'AMD五代锐龙 R7 5800X',\n",
       "  'Brand': '',\n",
       "  'Price': '暂无',\n",
       "  'ProductCategory': '食品饮料',\n",
       "  'Score': 0,\n",
       "  'Image': 'https://wxamusic.wx.qq.com/wxasr/getminipic/e8tcGiHLdXV5132_LVByKfP1ElMGAnagRhYrjZ9jAOUVStb30QoKAKoueEqXH7Km?media-id=e8tcGiHLdXV5132_LVByKfP1ElMGAnagRhYrjZ9jAOUVStb30QoKAKoueEqXH7Km&appid=wxeb5d1f826d7998df'},\n",
       " {'FindSKU': 1,\n",
       "  'Location': {'XMin': 0, 'YMin': 0, 'XMax': 0, 'YMax': 0},\n",
       "  'Name': 'AMD 锐龙 9 5950X CPU处理器 16核32线程 3.4GHz',\n",
       "  'Brand': '',\n",
       "  'Price': '￥6049',\n",
       "  'ProductCategory': '食品饮料',\n",
       "  'Score': 0,\n",
       "  'Image': 'https://wxamusic.wx.qq.com/wxasr/getminipic/7GbuxKLGviafvzKrFTvO5dLa84-ILmXIza0VZgRfIqv4D7kkKNyICoN14-6ASMwm?media-id=7GbuxKLGviafvzKrFTvO5dLa84-ILmXIza0VZgRfIqv4D7kkKNyICoN14-6ASMwm&appid=wxeb5d1f826d7998df'},\n",
       " {'FindSKU': 1,\n",
       "  'Location': {'XMin': 0, 'YMin': 0, 'XMax': 0, 'YMax': 0},\n",
       "  'Name': 'AMD锐龙55600X处理器(r5)7nm6核12线程3.7GHz65WAM4接口盒装CPU',\n",
       "  'Brand': '',\n",
       "  'Price': '￥2019',\n",
       "  'ProductCategory': '食品饮料',\n",
       "  'Score': 0,\n",
       "  'Image': 'https://wxamusic.wx.qq.com/wxasr/getminipic/I5XyWolwC3ztDOsvUvFb0BzWq22Nph8b-3ApYyl_eOc5Au4rflYgoPGGWkrG6L-q?media-id=I5XyWolwC3ztDOsvUvFb0BzWq22Nph8b-3ApYyl_eOc5Au4rflYgoPGGWkrG6L-q&appid=wx91d27dbf599dff74'},\n",
       " {'FindSKU': 1,\n",
       "  'Location': {'XMin': 0, 'YMin': 0, 'XMax': 0, 'YMax': 0},\n",
       "  'Name': '手慢无：AMD Ryzen 5 5600X 6C12T 3.7GHz AM4 处理器',\n",
       "  'Brand': '',\n",
       "  'Price': '￥300',\n",
       "  'ProductCategory': '食品饮料',\n",
       "  'Score': 0,\n",
       "  'Image': 'https://wxamusic.wx.qq.com/wxasr/getminipic/dgY2HfNFvpLDo1_97xyvIAipx30wN0c6278EN5N6ACeijF64P5kPp3zGCfKsR0jY?media-id=dgY2HfNFvpLDo1_97xyvIAipx30wN0c6278EN5N6ACeijF64P5kPp3zGCfKsR0jY&appid=wx960922a13ecf666b'},\n",
       " {'FindSKU': 1,\n",
       "  'Location': {'XMin': 0, 'YMin': 0, 'XMax': 0, 'YMax': 0},\n",
       "  'Name': 'AMD Ryzen 7 5800X 8C16T 处理器',\n",
       "  'Brand': '',\n",
       "  'Price': '￥449',\n",
       "  'ProductCategory': '食品饮料',\n",
       "  'Score': 0,\n",
       "  'Image': 'https://wxamusic.wx.qq.com/wxasr/getminipic/Cap7MlDpF7H_2JGND9fBOeM0GR_PRfSu_Li_O7VzZJ8vCAmdf9n8P8oEkcsDRX7n?media-id=Cap7MlDpF7H_2JGND9fBOeM0GR_PRfSu_Li_O7VzZJ8vCAmdf9n8P8oEkcsDRX7n&appid=wx960922a13ecf666b'},\n",
       " {'FindSKU': 1,\n",
       "  'Location': {'XMin': 0, 'YMin': 0, 'XMax': 0, 'YMax': 0},\n",
       "  'Name': 'AMD  5800X  处理器  7nm 8核16线程 3.8GHz PCIe 4.0 AM4接口 盒装CPU',\n",
       "  'Brand': '',\n",
       "  'Price': '￥3199',\n",
       "  'ProductCategory': '食品饮料',\n",
       "  'Score': 0,\n",
       "  'Image': 'https://wxamusic.wx.qq.com/wxasr/getminipic/OaQjvRPPVs0JtHcLmqKPHkhI4FRKSvVKZK-d4BLLEqPo5h6Keh2f8SHGJGyQ8eIH?media-id=OaQjvRPPVs0JtHcLmqKPHkhI4FRKSvVKZK-d4BLLEqPo5h6Keh2f8SHGJGyQ8eIH&appid=wxeb5d1f826d7998df'},\n",
       " {'FindSKU': 1,\n",
       "  'Location': {'XMin': 0, 'YMin': 0, 'XMax': 0, 'YMax': 0},\n",
       "  'Name': 'AMD Ryzen 7 5800X 8C16T 处理器',\n",
       "  'Brand': '',\n",
       "  'Price': '￥449',\n",
       "  'ProductCategory': '食品饮料',\n",
       "  'Score': 0,\n",
       "  'Image': 'https://wxamusic.wx.qq.com/wxasr/getminipic/X9vNz9CrmRrCjRS-X-G31w2l3Ybwk4sjElTrttA12T58O6mr_Z8Ic6xFXfax2bfW?media-id=X9vNz9CrmRrCjRS-X-G31w2l3Ybwk4sjElTrttA12T58O6mr_Z8Ic6xFXfax2bfW&appid=wx960922a13ecf666b'},\n",
       " {'FindSKU': 1,\n",
       "  'Location': {'XMin': 0, 'YMin': 0, 'XMax': 0, 'YMax': 0},\n",
       "  'Name': '新品AMD 五代锐龙R5 5600X R7 5800X R9 5900X 5950X盒装CPU处理器 R7-5800X盒装',\n",
       "  'Brand': '',\n",
       "  'Price': '￥3199',\n",
       "  'ProductCategory': '食品饮料',\n",
       "  'Score': 0,\n",
       "  'Image': 'https://wxamusic.wx.qq.com/wxasr/getminipic/YqwVD9iNB5OZ_o2KyizYM32UgMv5rzSPYOJmwYS9h4qB5Xf-5_HnvD_SW1oA9GMZ?media-id=YqwVD9iNB5OZ_o2KyizYM32UgMv5rzSPYOJmwYS9h4qB5Xf-5_HnvD_SW1oA9GMZ&appid=wx1edf489cb248852c'},\n",
       " {'FindSKU': 1,\n",
       "  'Location': {'XMin': 0, 'YMin': 0, 'XMax': 0, 'YMax': 0},\n",
       "  'Name': 'AMD锐龙75800X处理器(r7)7nm8核16线程3.8GHz105WAM4接口盒装CPU',\n",
       "  'Brand': '',\n",
       "  'Price': '￥2999',\n",
       "  'ProductCategory': '食品饮料',\n",
       "  'Score': 0,\n",
       "  'Image': 'https://wxamusic.wx.qq.com/wxasr/getminipic/xA1CyzyA5kujUfkKOX-WuCDFj5VywdqujZhksrw6ID4dYTHGHxnchLMgNwRxKUwz?media-id=xA1CyzyA5kujUfkKOX-WuCDFj5VywdqujZhksrw6ID4dYTHGHxnchLMgNwRxKUwz&appid=wxca1fe42a16552094'},\n",
       " {'FindSKU': 1,\n",
       "  'Location': {'XMin': 0, 'YMin': 0, 'XMax': 0, 'YMax': 0},\n",
       "  'Name': 'AMD五代锐龙R95950X5900搭微星华硕华擎B550/X570主板CPU套装P盘单CPU无主板R95900X套装',\n",
       "  'Brand': '',\n",
       "  'Price': '￥4699',\n",
       "  'ProductCategory': '食品饮料',\n",
       "  'Score': 0,\n",
       "  'Image': 'https://wxamusic.wx.qq.com/wxasr/getminipic/5oZPDjyAPVx_lTeAPv0VGXst4Qd0VONJzv5GR6zGIOpy2g4FQ4v07tUjqfPSSPMX?media-id=5oZPDjyAPVx_lTeAPv0VGXst4Qd0VONJzv5GR6zGIOpy2g4FQ4v07tUjqfPSSPMX&appid=wx91d27dbf599dff74'},\n",
       " {'FindSKU': 1,\n",
       "  'Location': {'XMin': 0, 'YMin': 0, 'XMax': 0, 'YMax': 0},\n",
       "  'Name': '众说纷纭：AMD Ryzen 锐龙9 5900X CPU处理器 12核心24线程 3.7GHz ',\n",
       "  'Brand': '',\n",
       "  'Price': '暂无',\n",
       "  'ProductCategory': '食品饮料',\n",
       "  'Score': 0,\n",
       "  'Image': 'https://wxamusic.wx.qq.com/wxasr/getminipic/rshnHyRFlZdMkXv4caOUyet5myiJJ2FhN84UZqYuaxmEXL_mh0YHe3pwVHFUZnNB?media-id=rshnHyRFlZdMkXv4caOUyet5myiJJ2FhN84UZqYuaxmEXL_mh0YHe3pwVHFUZnNB&appid=wxeb5d1f826d7998df'},\n",
       " {'FindSKU': 1,\n",
       "  'Location': {'XMin': 0, 'YMin': 0, 'XMax': 0, 'YMax': 0},\n",
       "  'Name': 'AMD Ryzen 5 5600X 6C12T 3.7GHz AM4 处理器',\n",
       "  'Brand': '',\n",
       "  'Price': '￥299',\n",
       "  'ProductCategory': '食品饮料',\n",
       "  'Score': 0,\n",
       "  'Image': 'https://wxamusic.wx.qq.com/wxasr/getminipic/kSJUwzTYtmEP3hnBCKOxVso-f4pXGoWT3QFiZDFlzDp6xBLvhZxyEfr2bCb1bpZ7?media-id=kSJUwzTYtmEP3hnBCKOxVso-f4pXGoWT3QFiZDFlzDp6xBLvhZxyEfr2bCb1bpZ7&appid=wx960922a13ecf666b'},\n",
       " {'FindSKU': 1,\n",
       "  'Location': {'XMin': 0, 'YMin': 0, 'XMax': 0, 'YMax': 0},\n",
       "  'Name': 'AMD锐龙R9/R7/R55950X/5900X/5800X/5600XAM4盒装CPU处理器锐龙R95900X12核24线程3.7GHz',\n",
       "  'Brand': '',\n",
       "  'Price': '￥3899',\n",
       "  'ProductCategory': '食品饮料',\n",
       "  'Score': 0,\n",
       "  'Image': 'https://wxamusic.wx.qq.com/wxasr/getminipic/fK8Nk12y8gdgXO_9ZK_JrOHkDBB5v4-j6FoUD0X1TI4CZSMfoXuMpIaRcE4a9xYM?media-id=fK8Nk12y8gdgXO_9ZK_JrOHkDBB5v4-j6FoUD0X1TI4CZSMfoXuMpIaRcE4a9xYM&appid=wx91d27dbf599dff74'},\n",
       " {'FindSKU': 1,\n",
       "  'Location': {'XMin': 0, 'YMin': 0, 'XMax': 0, 'YMax': 0},\n",
       "  'Name': 'AMD 锐龙 5 5600X CPU处理器 6核12线程 3.7GHz',\n",
       "  'Brand': '',\n",
       "  'Price': '暂无',\n",
       "  'ProductCategory': '食品饮料',\n",
       "  'Score': 0,\n",
       "  'Image': 'https://wxamusic.wx.qq.com/wxasr/getminipic/J5jMCwzcSUdDEOCdgbQ-jlpMW1oLVh1UWXwIHUb68WnK3lMIt-uOkEzMhxwD_wJF?media-id=J5jMCwzcSUdDEOCdgbQ-jlpMW1oLVh1UWXwIHUb68WnK3lMIt-uOkEzMhxwD_wJF&appid=wxeb5d1f826d7998df'},\n",
       " {'FindSKU': 1,\n",
       "  'Location': {'XMin': 0, 'YMin': 0, 'XMax': 0, 'YMax': 0},\n",
       "  'Name': 'AMD五代锐龙R95950X5900搭微星华硕华擎B550/X570主板CPU套装华擎B550MSteelLegend（钢铁传奇R95900X套装',\n",
       "  'Brand': '',\n",
       "  'Price': '￥5549',\n",
       "  'ProductCategory': '食品饮料',\n",
       "  'Score': 0,\n",
       "  'Image': 'https://wxamusic.wx.qq.com/wxasr/getminipic/wnAphreQrdPv3nzDX3iXFeB6pbxwqVNaoUuHjTKM-C9pxjc6wcEouVGPnX7QoASA?media-id=wnAphreQrdPv3nzDX3iXFeB6pbxwqVNaoUuHjTKM-C9pxjc6wcEouVGPnX7QoASA&appid=wx91d27dbf599dff74'},\n",
       " {'FindSKU': 1,\n",
       "  'Location': {'XMin': 0, 'YMin': 0, 'XMax': 0, 'YMax': 0},\n",
       "  'Name': 'AMD 锐龙五代R5/R7 5600X 5800X盒搭华硕B550技嘉雕主板CPU处理器AM4套装 华硕 STRIX B550-A GAMING 吹雪 R5 5600X 6核12线程 3.7GHz',\n",
       "  'Brand': '',\n",
       "  'Price': '￥3799',\n",
       "  'ProductCategory': '食品饮料',\n",
       "  'Score': 0,\n",
       "  'Image': 'https://wxamusic.wx.qq.com/wxasr/getminipic/TAgUt4DlAWBa3j0G4HLbmVoowQOXsi5VxDuevdmpyrKq4Qg6WAgQU15Na5Ze_EXr?media-id=TAgUt4DlAWBa3j0G4HLbmVoowQOXsi5VxDuevdmpyrKq4Qg6WAgQU15Na5Ze_EXr&appid=wx91d27dbf599dff74'},\n",
       " {'FindSKU': 1,\n",
       "  'Location': {'XMin': 0, 'YMin': 0, 'XMax': 0, 'YMax': 0},\n",
       "  'Name': '京东 AMD 锐龙R7 3700X 3800X R9 3900X 5800x 技嘉X570 主板CPU套装 B550M DS3H R7 3700X [3.6GHz/8核16线程]',\n",
       "  'Brand': '',\n",
       "  'Price': '￥2799',\n",
       "  'ProductCategory': '食品饮料',\n",
       "  'Score': 0,\n",
       "  'Image': 'https://wxamusic.wx.qq.com/wxasr/getminipic/fruh6uGv4dW5CTeryCIOHWkRyxsQr7aCSBPpEy05tPwuLWJ_NaNrsSGe8AJYPT9q?media-id=fruh6uGv4dW5CTeryCIOHWkRyxsQr7aCSBPpEy05tPwuLWJ_NaNrsSGe8AJYPT9q&appid=wxca060021c274cb02'},\n",
       " {'FindSKU': 1,\n",
       "  'Location': {'XMin': 0, 'YMin': 0, 'XMax': 0, 'YMax': 0},\n",
       "  'Name': '华硕（ASUS）B550 M-ATX主板搭配AMD 锐龙R5处理器套装 支持PCI-E 4.0 R5 3500X+PRIME B550M-A套装',\n",
       "  'Brand': '',\n",
       "  'Price': '暂无',\n",
       "  'ProductCategory': '食品饮料',\n",
       "  'Score': 0,\n",
       "  'Image': 'https://wxamusic.wx.qq.com/wxasr/getminipic/ybmS9FH0Ru3m2V9HPI_n--rw62z1w8BcXHkBgxf-l8DuBlyLlDxefaicMIkFSc3W?media-id=ybmS9FH0Ru3m2V9HPI_n--rw62z1w8BcXHkBgxf-l8DuBlyLlDxefaicMIkFSc3W&appid=wx91d27dbf599dff74'},\n",
       " {'FindSKU': 1,\n",
       "  'Location': {'XMin': 0, 'YMin': 0, 'XMax': 0, 'YMax': 0},\n",
       "  'Name': 'AMD R7 5800X CPU盒装处理器搭铭瑄B550终结者游戏主板cpu套装',\n",
       "  'Brand': '',\n",
       "  'Price': '￥3299',\n",
       "  'ProductCategory': '食品饮料',\n",
       "  'Score': 0,\n",
       "  'Image': 'https://wxamusic.wx.qq.com/wxasr/getminipic/_Qv6gI47K5HfK2lgiiJ_N-zVen0EpNdu6oWKWLwGTmtuj67hSLLgL9jYzQ5G24TA?media-id=_Qv6gI47K5HfK2lgiiJ_N-zVen0EpNdu6oWKWLwGTmtuj67hSLLgL9jYzQ5G24TA&appid=wxeb5d1f826d7998df'},\n",
       " {'FindSKU': 1,\n",
       "  'Location': {'XMin': 0, 'YMin': 0, 'XMax': 0, 'YMax': 0},\n",
       "  'Name': 'AMD锐龙五代R5/R75600X5800X盒搭华硕B550技嘉雕主板CPU处理器AM4套装华硕C8FR95950X16核32线程3.4GHz',\n",
       "  'Brand': '',\n",
       "  'Price': '暂无',\n",
       "  'ProductCategory': '食品饮料',\n",
       "  'Score': 0,\n",
       "  'Image': 'https://m.360buyimg.com/mobilecms/s800x800_jfs/t1/160777/16/15530/214151/6062ee56Ee42f8c09/bebc8b6e435dfc18.jpg!q70.dpg'}]"
      ]
     },
     "execution_count": 45,
     "metadata": {},
     "output_type": "execute_result"
    }
   ],
   "source": [
    "ProductInfoList=resp[\"ProductInfoList\"]\n",
    "ProductInfoList"
   ]
  }
 ],
 "metadata": {
  "kernelspec": {
   "display_name": "Python 3",
   "language": "python",
   "name": "python3"
  },
  "language_info": {
   "codemirror_mode": {
    "name": "ipython",
    "version": 3
   },
   "file_extension": ".py",
   "mimetype": "text/x-python",
   "name": "python",
   "nbconvert_exporter": "python",
   "pygments_lexer": "ipython3",
   "version": "3.6.13"
  }
 },
 "nbformat": 4,
 "nbformat_minor": 1
}