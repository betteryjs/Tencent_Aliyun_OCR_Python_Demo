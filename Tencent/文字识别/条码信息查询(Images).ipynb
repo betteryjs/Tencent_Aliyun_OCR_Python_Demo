{
 "cells": [
  {
   "cell_type": "code",
   "execution_count": 8,
   "metadata": {},
   "outputs": [],
   "source": [
    "# \n",
    "import json\n",
    "import cv2\n",
    "import requests\n",
    "import uuid\n",
    "from tencentcloud.common import credential\n",
    "from tencentcloud.common.profile.client_profile import ClientProfile\n",
    "from tencentcloud.common.profile.http_profile import HttpProfile\n",
    "from tencentcloud.common.exception.tencent_cloud_sdk_exception import TencentCloudSDKException\n",
    "from tencentcloud.ocr.v20181119 import ocr_client, models\n",
    "from tencentcloud.ocr.v20181119 import models as ocr_models\n",
    "import numpy as np\n",
    "import base64\n",
    "import matplotlib.pyplot as plt\n",
    "%matplotlib inline\n",
    "import warnings\n",
    "warnings.filterwarnings(\"ignore\")\n",
    "with open(\"../tencent_key.json\" ,'r') as key:\n",
    "    SecretDict=json.loads(key.read())\n",
    "SecretId=SecretDict[\"SecretId\"]\n",
    "SecretKey=SecretDict[\"SecretKey\"]\n",
    "cred = credential.Credential(SecretId, SecretKey) \n",
    "httpProfile = HttpProfile()\n",
    "httpProfile.endpoint = \"ocr.tencentcloudapi.com\"\n",
    "\n",
    "clientProfile = ClientProfile()\n",
    "clientProfile.httpProfile = httpProfile\n",
    "client = ocr_client.OcrClient(cred, \"ap-beijing\", clientProfile) "
   ]
  },
  {
   "cell_type": "code",
   "execution_count": 27,
   "metadata": {
    "scrolled": true
   },
   "outputs": [
    {
     "name": "stdout",
     "output_type": "stream",
     "text": [
      "{'CodeResults': [{'TypeName': 'CODE_128', 'Url': '12174S9004198', 'Position': {'LeftTop': {'X': -1, 'Y': -1}, 'RightTop': {'X': -1, 'Y': -1}, 'RightBottom': {'X': -1, 'Y': -1}, 'LeftBottom': {'X': -1, 'Y': -1}}}], 'ImgSize': {'Wide': 2881, 'High': 957}, 'RequestId': 'f8cb7af4-53ae-4e25-9893-9beac81e3dbf'}\n"
     ]
    }
   ],
   "source": [
    "\"\"\"\n",
    "\n",
    "通用印刷体识别（高精度版）\n",
    "https://console.cloud.tencent.com/api\n",
    "/explorer?Product=ocr&Version=2018-11-19&Action=GeneralAccurateOCR&SignVersion=\n",
    "\"\"\"\n",
    "\n",
    "\n",
    "try: \n",
    "    img_path=\"./images/qr3.jpg\"\n",
    "    with open(img_path,\"rb\") as file:\n",
    "        img=base64.b64encode(file.read())\n",
    "    req = ocr_models.QrcodeOCRRequest()\n",
    "\n",
    "    params = {\n",
    "        \"ImageBase64\": str(img,encoding='utf-8'),\n",
    "#         \"ImageUrl\": \"\"\n",
    "    }\n",
    "    req.from_json_string(json.dumps(params))\n",
    "\n",
    "    resp = client.QrcodeOCR(req).to_json_string() \n",
    "     \n",
    "    resp=json.loads(resp)\n",
    "    print(resp)  \n",
    "\n",
    "except TencentCloudSDKException as err: \n",
    "    print(err) \n",
    "\n"
   ]
  },
  {
   "cell_type": "code",
   "execution_count": 28,
   "metadata": {},
   "outputs": [
    {
     "ename": "TencentCloudSDKException",
     "evalue": "[TencentCloudSDKException] code:FailedOperation.UnKnowError message:内部错误 requestId:770346bd-ab66-4a62-8864-dec2d6dc7a93",
     "output_type": "error",
     "traceback": [
      "\u001B[1;31m---------------------------------------------------------------------------\u001B[0m",
      "\u001B[1;31mTencentCloudSDKException\u001B[0m                  Traceback (most recent call last)",
      "\u001B[1;32m<ipython-input-28-74914e49224b>\u001B[0m in \u001B[0;36m<module>\u001B[1;34m\u001B[0m\n\u001B[0;32m      4\u001B[0m }\n\u001B[0;32m      5\u001B[0m \u001B[0mreq\u001B[0m\u001B[1;33m.\u001B[0m\u001B[0mfrom_json_string\u001B[0m\u001B[1;33m(\u001B[0m\u001B[0mjson\u001B[0m\u001B[1;33m.\u001B[0m\u001B[0mdumps\u001B[0m\u001B[1;33m(\u001B[0m\u001B[0mparams\u001B[0m\u001B[1;33m)\u001B[0m\u001B[1;33m)\u001B[0m\u001B[1;33m\u001B[0m\u001B[1;33m\u001B[0m\u001B[0m\n\u001B[1;32m----> 6\u001B[1;33m \u001B[0mresp\u001B[0m \u001B[1;33m=\u001B[0m \u001B[0mclient\u001B[0m\u001B[1;33m.\u001B[0m\u001B[0mQueryBarCode\u001B[0m\u001B[1;33m(\u001B[0m\u001B[0mreq\u001B[0m\u001B[1;33m)\u001B[0m\u001B[1;33m.\u001B[0m\u001B[0mto_json_string\u001B[0m\u001B[1;33m(\u001B[0m\u001B[1;33m)\u001B[0m\u001B[1;33m\u001B[0m\u001B[1;33m\u001B[0m\u001B[0m\n\u001B[0m\u001B[0;32m      7\u001B[0m \u001B[0mresp\u001B[0m\u001B[1;33m=\u001B[0m\u001B[0mjson\u001B[0m\u001B[1;33m.\u001B[0m\u001B[0mloads\u001B[0m\u001B[1;33m(\u001B[0m\u001B[0mresp\u001B[0m\u001B[1;33m)\u001B[0m\u001B[1;33m\u001B[0m\u001B[1;33m\u001B[0m\u001B[0m\n\u001B[0;32m      8\u001B[0m \u001B[0mprint\u001B[0m\u001B[1;33m(\u001B[0m\u001B[0mresp\u001B[0m\u001B[1;33m)\u001B[0m\u001B[1;33m\u001B[0m\u001B[1;33m\u001B[0m\u001B[0m\n",
      "\u001B[1;32md:\\python\\venv(data_analysis)\\lib\\site-packages\\tencentcloud\\ocr\\v20181119\\ocr_client.py\u001B[0m in \u001B[0;36mQueryBarCode\u001B[1;34m(self, request)\u001B[0m\n\u001B[0;32m   1450\u001B[0m                 \u001B[0mmessage\u001B[0m \u001B[1;33m=\u001B[0m \u001B[0mresponse\u001B[0m\u001B[1;33m[\u001B[0m\u001B[1;34m\"Response\"\u001B[0m\u001B[1;33m]\u001B[0m\u001B[1;33m[\u001B[0m\u001B[1;34m\"Error\"\u001B[0m\u001B[1;33m]\u001B[0m\u001B[1;33m[\u001B[0m\u001B[1;34m\"Message\"\u001B[0m\u001B[1;33m]\u001B[0m\u001B[1;33m\u001B[0m\u001B[1;33m\u001B[0m\u001B[0m\n\u001B[0;32m   1451\u001B[0m                 \u001B[0mreqid\u001B[0m \u001B[1;33m=\u001B[0m \u001B[0mresponse\u001B[0m\u001B[1;33m[\u001B[0m\u001B[1;34m\"Response\"\u001B[0m\u001B[1;33m]\u001B[0m\u001B[1;33m[\u001B[0m\u001B[1;34m\"RequestId\"\u001B[0m\u001B[1;33m]\u001B[0m\u001B[1;33m\u001B[0m\u001B[1;33m\u001B[0m\u001B[0m\n\u001B[1;32m-> 1452\u001B[1;33m                 \u001B[1;32mraise\u001B[0m \u001B[0mTencentCloudSDKException\u001B[0m\u001B[1;33m(\u001B[0m\u001B[0mcode\u001B[0m\u001B[1;33m,\u001B[0m \u001B[0mmessage\u001B[0m\u001B[1;33m,\u001B[0m \u001B[0mreqid\u001B[0m\u001B[1;33m)\u001B[0m\u001B[1;33m\u001B[0m\u001B[1;33m\u001B[0m\u001B[0m\n\u001B[0m\u001B[0;32m   1453\u001B[0m         \u001B[1;32mexcept\u001B[0m \u001B[0mException\u001B[0m \u001B[1;32mas\u001B[0m \u001B[0me\u001B[0m\u001B[1;33m:\u001B[0m\u001B[1;33m\u001B[0m\u001B[1;33m\u001B[0m\u001B[0m\n\u001B[0;32m   1454\u001B[0m             \u001B[1;32mif\u001B[0m \u001B[0misinstance\u001B[0m\u001B[1;33m(\u001B[0m\u001B[0me\u001B[0m\u001B[1;33m,\u001B[0m \u001B[0mTencentCloudSDKException\u001B[0m\u001B[1;33m)\u001B[0m\u001B[1;33m:\u001B[0m\u001B[1;33m\u001B[0m\u001B[1;33m\u001B[0m\u001B[0m\n",
      "\u001B[1;31mTencentCloudSDKException\u001B[0m: [TencentCloudSDKException] code:FailedOperation.UnKnowError message:内部错误 requestId:770346bd-ab66-4a62-8864-dec2d6dc7a93"
     ]
    }
   ],
   "source": [
    "req = ocr_models.QueryBarCodeRequest()\n",
    "params = {\n",
    "    \"BarCode\": resp['CodeResults'][0]['Url']\n",
    "}\n",
    "req.from_json_string(json.dumps(params))\n",
    "resp = client.QueryBarCode(req).to_json_string() \n",
    "resp=json.loads(resp)\n",
    "print(resp)  \n"
   ]
  }
 ],
 "metadata": {
  "kernelspec": {
   "display_name": "Python 3",
   "language": "python",
   "name": "python3"
  },
  "language_info": {
   "codemirror_mode": {
    "name": "ipython",
    "version": 3
   },
   "file_extension": ".py",
   "mimetype": "text/x-python",
   "name": "python",
   "nbconvert_exporter": "python",
   "pygments_lexer": "ipython3",
   "version": "3.6.13"
  }
 },
 "nbformat": 4,
 "nbformat_minor": 1
}