{
 "cells": [
  {
   "cell_type": "code",
   "execution_count": 1,
   "metadata": {},
   "outputs": [],
   "source": [
    "# \n",
    "import json\n",
    "import cv2\n",
    "import requests\n",
    "import uuid\n",
    "from tencentcloud.common import credential\n",
    "from tencentcloud.common.profile.client_profile import ClientProfile\n",
    "from tencentcloud.common.profile.http_profile import HttpProfile\n",
    "from tencentcloud.common.exception.tencent_cloud_sdk_exception import TencentCloudSDKException\n",
    "from tencentcloud.ocr.v20181119 import ocr_client, models\n",
    "from tencentcloud.ocr.v20181119 import models as ocr_models\n",
    "import numpy as np\n",
    "import base64\n",
    "import matplotlib.pyplot as plt\n",
    "%matplotlib inline\n",
    "import warnings\n",
    "warnings.filterwarnings(\"ignore\")\n",
    "with open(\"../tencent_key.json\" ,'r') as key:\n",
    "    SecretDict=json.loads(key.read())\n",
    "SecretId=SecretDict[\"SecretId\"]\n",
    "SecretKey=SecretDict[\"SecretKey\"]"
   ]
  },
  {
   "cell_type": "code",
   "execution_count": 3,
   "metadata": {},
   "outputs": [
    {
     "name": "stdout",
     "output_type": "stream",
     "text": [
      "{'BarCode': '06932902766569', 'ProductDataRecords': [{'ProductName': '米诺地尔酊', 'EnName': '', 'BrandName': '蔓迪', 'Type': '30ml/瓶/盒', 'Width': '', 'Height': '', 'Depth': '', 'KeyWord': '蔓迪', 'Description': '', 'ImageLink': [''], 'ManufacturerName': '浙江万晟药业有限公司', 'ManufacturerAddress': '浙江省杭州市临安区青山湖街道王家山路1号', 'FirmCode': '91330185253932420N                                ', 'CheckResult': '1', 'CategoryCode': ''}], 'RequestId': 'd4e9f7eb-40cf-4a95-a092-c92e1506204f'}\n"
     ]
    }
   ],
   "source": [
    "\"\"\"\n",
    "\n",
    "通用印刷体识别（高精度版）\n",
    "https://console.cloud.tencent.com/api\n",
    "/explorer?Product=ocr&Version=2018-11-19&Action=GeneralAccurateOCR&SignVersion=\n",
    "\"\"\"\n",
    "\n",
    "\n",
    "try: \n",
    "    cred = credential.Credential(SecretId, SecretKey) \n",
    "    httpProfile = HttpProfile()\n",
    "    httpProfile.endpoint = \"ocr.tencentcloudapi.com\"\n",
    "\n",
    "    clientProfile = ClientProfile()\n",
    "    clientProfile.httpProfile = httpProfile\n",
    "    client = ocr_client.OcrClient(cred, \"ap-beijing\", clientProfile) \n",
    "    req = ocr_models.QueryBarCodeRequest()\n",
    "\n",
    "    params = {\n",
    "        \"BarCode\": \"6932902766569\"\n",
    "    }\n",
    "    req.from_json_string(json.dumps(params))\n",
    "\n",
    "    resp = client.QueryBarCode(req).to_json_string() \n",
    "     \n",
    "    resp=json.loads(resp)\n",
    "    print(resp)  \n",
    "\n",
    "except TencentCloudSDKException as err: \n",
    "    print(err) \n",
    "\n"
   ]
  },
  {
   "cell_type": "code",
   "execution_count": null,
   "metadata": {},
   "outputs": [],
   "source": []
  },
  {
   "cell_type": "code",
   "execution_count": null,
   "metadata": {},
   "outputs": [],
   "source": []
  }
 ],
 "metadata": {
  "kernelspec": {
   "display_name": "Python 3",
   "language": "python",
   "name": "python3"
  },
  "language_info": {
   "codemirror_mode": {
    "name": "ipython",
    "version": 3
   },
   "file_extension": ".py",
   "mimetype": "text/x-python",
   "name": "python",
   "nbconvert_exporter": "python",
   "pygments_lexer": "ipython3",
   "version": "3.6.13"
  }
 },
 "nbformat": 4,
 "nbformat_minor": 1
}