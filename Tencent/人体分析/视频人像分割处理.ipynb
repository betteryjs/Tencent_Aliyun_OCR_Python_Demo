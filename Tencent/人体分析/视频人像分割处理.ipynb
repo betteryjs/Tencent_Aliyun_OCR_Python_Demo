{
 "cells": [
  {
   "cell_type": "code",
   "execution_count": 3,
   "metadata": {},
   "outputs": [],
   "source": [
    "# \n",
    "import json\n",
    "import cv2\n",
    "import requests\n",
    "from tencentcloud.common import credential\n",
    "from tencentcloud.common.profile.client_profile import ClientProfile\n",
    "from tencentcloud.common.profile.http_profile import HttpProfile\n",
    "from tencentcloud.common.exception.tencent_cloud_sdk_exception import TencentCloudSDKException\n",
    "from tencentcloud.bda.v20200324 import bda_client\n",
    "from tencentcloud.bda.v20200324 import models as bda_models\n",
    "\n",
    "import numpy as np\n",
    "import base64\n",
    "import matplotlib.pyplot as plt\n",
    "%matplotlib inline\n",
    "import warnings\n",
    "warnings.filterwarnings(\"ignore\")\n",
    "with open(\"../tencent_key.json\" ,'r') as key:\n",
    "    SecretDict=json.loads(key.read())\n",
    "SecretId=SecretDict[\"SecretId\"]\n",
    "SecretKey=SecretDict[\"SecretKey\"]"
   ]
  },
  {
   "cell_type": "code",
   "execution_count": 4,
   "metadata": {},
   "outputs": [
    {
     "name": "stdout",
     "output_type": "stream",
     "text": [
      "{'TaskID': '9YZqUUM2nzElnQxt', 'EstimatedProcessingTime': 30, 'RequestId': 'efba7af0-a341-40c5-800d-c35167a1fb9d'}\n"
     ]
    }
   ],
   "source": [
    "\"\"\"\n",
    "视频人像分割\n",
    "https://console.cloud.tencent.com/api\n",
    "/explorer?Product=bda&Version=2020-03-24&Action=CreateSegmentationTask&SignVersion=\n",
    "\"\"\"\n",
    "try: \n",
    "    cred = credential.Credential(SecretId,SecretKey) \n",
    "    httpProfile = HttpProfile()\n",
    "    httpProfile.endpoint = \"bda.tencentcloudapi.com\"\n",
    "\n",
    "    clientProfile = ClientProfile()\n",
    "    clientProfile.httpProfile = httpProfile\n",
    "    client = bda_client.BdaClient(cred, \"ap-guangzhou\", clientProfile) \n",
    "\n",
    "    req = bda_models.CreateSegmentationTaskRequest()\n",
    "    \"\"\"\n",
    "    VideoUrl\t是\tString\t需要分割的视频URL，可外网访问。\n",
    "    BackgroundImageUrl\t否\tString\t背景图片URL。\n",
    "    可以将视频背景替换为输入的图片。\n",
    "    如果不输入背景图片，则输出人像区域mask。\n",
    "    Config\t否\tString\t预留字段，后期用于展示更多识别信息。\n",
    "    \"\"\"\n",
    "    params = {\n",
    "        \"VideoUrl\": \"https://webplus-cn-beijing-s-5f12835a3dd7f938e565a84d.oss-cn-beijing.aliyuncs.com/video/test_10s.mp4\",\n",
    "        \"BackgroundImageUrl\": \"\",\n",
    "        \"Config\": \"\"\n",
    "    }\n",
    "    req.from_json_string(json.dumps(params))\n",
    "\n",
    "    resp = client.CreateSegmentationTask(req).to_json_string() \n",
    "    resp=json.loads(resp)\n",
    "    print(resp) \n",
    "\n",
    "except TencentCloudSDKException as err: \n",
    "    print(err) "
   ]
  },
  {
   "cell_type": "code",
   "execution_count": 5,
   "metadata": {},
   "outputs": [
    {
     "data": {
      "text/plain": [
       "'9YZqUUM2nzElnQxt'"
      ]
     },
     "execution_count": 5,
     "metadata": {},
     "output_type": "execute_result"
    }
   ],
   "source": [
    "TaskID=resp[\"TaskID\"]\n",
    "TaskID"
   ]
  },
  {
   "cell_type": "code",
   "execution_count": 7,
   "metadata": {},
   "outputs": [
    {
     "name": "stdout",
     "output_type": "stream",
     "text": [
      "{'TaskStatus': 'FINISHED', 'ResultVideoUrl': 'http://bda-video-bodyseg-1254418846.cos.ap-guangzhou.myqcloud.com/video_segment_prod/v1.0/1304700566/20210820105702_efba7af0-a341-40c5-800d-c35167a1fb9d_result.mp4', 'ResultVideoMD5': 'ECE260F2BF662BC162FD6DB5E142A84D', 'VideoBasicInformation': {'FrameWidth': 1920, 'FrameHeight': 1080, 'FramesPerSecond': 25, 'Duration': 10, 'TotalFrames': 250}, 'ErrorMsg': '', 'RequestId': 'd3423ad7-3fac-4cf1-a214-8024d071ca10'}\n"
     ]
    }
   ],
   "source": [
    "\n",
    "try: \n",
    "    cred = credential.Credential(SecretId, SecretKey) \n",
    "    httpProfile = HttpProfile()\n",
    "    httpProfile.endpoint = \"bda.tencentcloudapi.com\"\n",
    "\n",
    "    clientProfile = ClientProfile()\n",
    "    clientProfile.httpProfile = httpProfile\n",
    "    client = bda_client.BdaClient(cred, \"ap-guangzhou\", clientProfile) \n",
    "\n",
    "    req = bda_models.DescribeSegmentationTaskRequest()\n",
    "    params = {\n",
    "        \"TaskID\": TaskID\n",
    "    }\n",
    "    req.from_json_string(json.dumps(params))\n",
    "\n",
    "    resp = client.DescribeSegmentationTask(req).to_json_string()\n",
    "    resp=json.loads(resp)\n",
    "    print(resp) \n",
    "\n",
    "except TencentCloudSDKException as err: \n",
    "    print(err) "
   ]
  },
  {
   "cell_type": "code",
   "execution_count": 9,
   "metadata": {},
   "outputs": [
    {
     "data": {
      "text/plain": [
       "'http://bda-video-bodyseg-1254418846.cos.ap-guangzhou.myqcloud.com/video_segment_prod/v1.0/1304700566/20210820105702_efba7af0-a341-40c5-800d-c35167a1fb9d_result.mp4'"
      ]
     },
     "execution_count": 9,
     "metadata": {},
     "output_type": "execute_result"
    }
   ],
   "source": [
    "ResultVideoUrl=resp['ResultVideoUrl']\n",
    "ResultVideoUrl"
   ]
  },
  {
   "cell_type": "code",
   "execution_count": 10,
   "metadata": {},
   "outputs": [],
   "source": [
    "with open(\"./video/视频人像分割.mp4\",'wb') as file:\n",
    "    file.write(requests.get(ResultVideoUrl).contenttent)"
   ]
  }
 ],
 "metadata": {
  "kernelspec": {
   "display_name": "Python 3",
   "language": "python",
   "name": "python3"
  },
  "language_info": {
   "codemirror_mode": {
    "name": "ipython",
    "version": 3
   },
   "file_extension": ".py",
   "mimetype": "text/x-python",
   "name": "python",
   "nbconvert_exporter": "python",
   "pygments_lexer": "ipython3",
   "version": "3.6.13"
  }
 },
 "nbformat": 4,
 "nbformat_minor": 1
}