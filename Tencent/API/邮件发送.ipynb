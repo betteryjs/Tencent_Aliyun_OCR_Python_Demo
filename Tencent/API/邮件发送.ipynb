{
 "cells": [
  {
   "cell_type": "code",
   "execution_count": 1,
   "metadata": {},
   "outputs": [],
   "source": [
    "import json\n",
    "import base64\n",
    "from tencentcloud.common import credential\n",
    "from tencentcloud.common.profile.client_profile import ClientProfile\n",
    "from tencentcloud.common.profile.http_profile import HttpProfile\n",
    "from tencentcloud.common.exception.tencent_cloud_sdk_exception import TencentCloudSDKException\n",
    "from tencentcloud.ses.v20201002 import ses_client, models\n",
    "from datetime import datetime\n",
    "from datetime import date\n",
    "\n",
    "with open(\"../tencent_key.json\" ,'r') as key:\n",
    "    SecretDict=json.loads(key.read())\n",
    "SecretId=SecretDict[\"SecretId\"]\n",
    "SecretKey=SecretDict[\"SecretKey\"]"
   ]
  },
  {
   "cell_type": "code",
   "execution_count": 7,
   "metadata": {},
   "outputs": [
    {
     "name": "stdout",
     "output_type": "stream",
     "text": [
      "{'RequestId': '603cc4e7-4434-46c4-b54d-dea4b26d52e0'}\n"
     ]
    }
   ],
   "source": [
    "# 创建邮件模板\n",
    "\"\"\"\n",
    "\n",
    "\"\"\"\n",
    "try: \n",
    "    cred = credential.Credential(SecretId, SecretKey) \n",
    "    httpProfile = HttpProfile()\n",
    "    httpProfile.endpoint = \"ses.tencentcloudapi.com\"\n",
    "\n",
    "    clientProfile = ClientProfile()\n",
    "    clientProfile.httpProfile = httpProfile\n",
    "    client = ses_client.SesClient(cred, \"ap-hongkong\", clientProfile) \n",
    "    HTMLPath=\"HTML/TemplateName2.html\"\n",
    "    with open(HTMLPath,'rb') as file:\n",
    "        html=base64.b64encode(file.read())\n",
    "    req = models.CreateEmailTemplateRequest()\n",
    "    params = {\n",
    "        \"TemplateName\": \"TemplateName2\",\n",
    "        \"TemplateContent\": {\n",
    "            \"Html\": str(html, encoding='utf-8'),\n",
    "#             \"Text\": \"base64之后的文本内容\"\n",
    "        }\n",
    "    }\n",
    "    req.from_json_string(json.dumps(params))\n",
    "\n",
    "    resp = json.loads(client.CreateEmailTemplate(req).to_json_string())\n",
    "    print(resp) \n",
    "\n",
    "except TencentCloudSDKException as err: \n",
    "    print(err)\n",
    "    "
   ]
  },
  {
   "cell_type": "code",
   "execution_count": 9,
   "metadata": {},
   "outputs": [
    {
     "name": "stdout",
     "output_type": "stream",
     "text": [
      "{\"MessageId\": \"qcloudses-30-1304700566-date-20210823141905-KSGfCxfzVwc1\", \"RequestId\": \"86fee666-f4cd-4e77-bd9f-7281331cffab\"}\n"
     ]
    }
   ],
   "source": [
    "try:\n",
    "    cred = credential.Credential(SecretId, SecretKey)\n",
    "    httpProfile = HttpProfile()\n",
    "    httpProfile.endpoint = \"ses.tencentcloudapi.com\"\n",
    "\n",
    "    clientProfile = ClientProfile()\n",
    "    clientProfile.httpProfile = httpProfile\n",
    "    client = ses_client.SesClient(cred, \"ap-hongkong\", clientProfile)\n",
    "\n",
    "    req = models.SendEmailRequest()\n",
    "    email=\"aanbnbnbnb@gmail.com\"\n",
    "    TemplateData={\n",
    "        \"access_url\":\"https://www.google.com\",\n",
    "        \"you_email\":email\n",
    "    }\n",
    "    params = {\n",
    "        \"FromEmailAddress\": \"root@mail.11451400.xyz\",\n",
    "        \"ReplyToAddresses\": \"aanbnbnbnb@gmail.com\",\n",
    "        \"Destination\": [email , ],\n",
    "        \"Template\": {\n",
    "            \"TemplateID\": 18162,\n",
    "            \"TemplateData\": json.dumps(TemplateData)\n",
    "        },\n",
    "        \"Subject\": \"邮件主题\"\n",
    "    }\n",
    "    req.from_json_string(json.dumps(params))\n",
    "\n",
    "    resp = client.SendEmail(req)\n",
    "    print(resp.to_json_string())\n",
    "\n",
    "except TencentCloudSDKException as err:\n",
    "    print(err)"
   ]
  },
  {
   "cell_type": "code",
   "execution_count": 11,
   "metadata": {},
   "outputs": [
    {
     "name": "stdout",
     "output_type": "stream",
     "text": [
      "{\"DailyVolumes\": [{\"SendDate\": \"2021-08-23\", \"RequestCount\": 15, \"AcceptedCount\": 15, \"DeliveredCount\": 15, \"OpenedCount\": 12, \"ClickedCount\": 0, \"BounceCount\": 0, \"UnsubscribeCount\": 0}], \"OverallVolume\": {\"SendDate\": \"0000-00-00\", \"RequestCount\": 15, \"AcceptedCount\": 15, \"DeliveredCount\": 15, \"OpenedCount\": 12, \"ClickedCount\": 0, \"BounceCount\": 0, \"UnsubscribeCount\": 0}, \"RequestId\": \"cbaf1937-e1f0-45db-b347-e667131d0933\"}\n"
     ]
    }
   ],
   "source": [
    "from datetime import date, datetime\n",
    "\n",
    "\n",
    "try: \n",
    "    cred = credential.Credential(SecretId, SecretKey) \n",
    "    httpProfile = HttpProfile()\n",
    "    httpProfile.endpoint = \"ses.tencentcloudapi.com\"\n",
    "\n",
    "    clientProfile = ClientProfile()\n",
    "    clientProfile.httpProfile = httpProfile\n",
    "    client = ses_client.SesClient(cred, \"ap-hongkong\", clientProfile) \n",
    "\n",
    "    req = models.GetStatisticsReportRequest()\n",
    "    \n",
    "\n",
    "\n",
    "    params = {\n",
    "        \"Domain\": \"mail.11451400.xyz\",\n",
    "        \"StartDate\": \"2021-08-23\",\n",
    "        \"EndDate\": \"2021-08-25\",\n",
    "        \"ReceivingMailboxType\": \"gmail.com\"\n",
    "    }\n",
    "    \n",
    "    req.from_json_string(json.dumps(params))\n",
    "\n",
    "    resp = client.GetStatisticsReport(req) \n",
    "    print(resp.to_json_string()) \n",
    "\n",
    "except TencentCloudSDKException as err: \n",
    "    print(err) "
   ]
  }
 ],
 "metadata": {
  "kernelspec": {
   "display_name": "Python 3",
   "language": "python",
   "name": "python3"
  },
  "language_info": {
   "codemirror_mode": {
    "name": "ipython",
    "version": 3
   },
   "file_extension": ".py",
   "mimetype": "text/x-python",
   "name": "python",
   "nbconvert_exporter": "python",
   "pygments_lexer": "ipython3",
   "version": "3.8.1"
  }
 },
 "nbformat": 4,
 "nbformat_minor": 1
}