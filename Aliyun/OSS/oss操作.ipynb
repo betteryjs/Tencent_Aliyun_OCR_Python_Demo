{
 "cells": [
  {
   "cell_type": "markdown",
   "metadata": {},
   "source": [
    "### 列举所有的存储空间"
   ]
  },
  {
   "cell_type": "code",
   "execution_count": 6,
   "metadata": {},
   "outputs": [
    {
     "name": "stdout",
     "output_type": "stream",
     "text": [
      "ecs-yjs\n",
      "ocr-yjs\n",
      "scripts-yjs\n",
      "vr-foo\n",
      "webplus-cn-beijing-s-5f12835a3dd7f938e565a84d\n",
      "yjs-blog\n",
      "yjs-files\n"
     ]
    }
   ],
   "source": [
    "import oss2\n",
    "import json\n",
    "\n",
    "# 阿里云账号AccessKey拥有所有API的访问权限，风险很高。强烈建议您创建并使用RAM用户进行API访问或日常运维，请登录RAM控制台创建RAM用户。\n",
    "\n",
    "with open(\"../aliyun_key.json\" ,'r') as key:\n",
    "    AccessKeyDict=json.loads(key.read())\n",
    "AccessKeyId=AccessKeyDict[\"AccessKeyId\"]\n",
    "AccessKeySecret=AccessKeyDict[\"AccessKeySecret\"]\n",
    "\n",
    "\n",
    "auth = oss2.Auth(AccessKeyId, AccessKeySecret)\n",
    "# Endpoint以杭州为例，其它Region请按实际情况填写。\n",
    "service = oss2.Service(auth, 'http://oss-cn-hangzhou.aliyuncs.com')\n",
    "\n",
    "# <yourObjectName>上传文件到OSS时需要指定包含文件后缀在内的完整路径，例如abc/efg/123.jpg。\n",
    "# <yourLocalFile>由本地文件路径加文件名包括后缀组成，例如/users/local/myfile.txt。\n",
    "# bucket.put_object_from_file('<yourObjectName>', '<yourLocalFile>')\n",
    "for b in oss2.BucketIterator(service):\n",
    "    print(b.name)            "
   ]
  },
  {
   "cell_type": "markdown",
   "metadata": {},
   "source": [
    "### 列举指定前缀的存储空间"
   ]
  },
  {
   "cell_type": "code",
   "execution_count": 7,
   "metadata": {},
   "outputs": [
    {
     "name": "stdout",
     "output_type": "stream",
     "text": [
      "webplus-cn-beijing-s-5f12835a3dd7f938e565a84d\n"
     ]
    }
   ],
   "source": [
    "for b in oss2.BucketIterator(service, prefix='webplus-'):\n",
    "    print(b.name)"
   ]
  },
  {
   "cell_type": "markdown",
   "metadata": {},
   "source": [
    "### 列举指定marker之后的存储空间"
   ]
  },
  {
   "cell_type": "code",
   "execution_count": 8,
   "metadata": {},
   "outputs": [
    {
     "name": "stdout",
     "output_type": "stream",
     "text": [
      "webplus-cn-beijing-s-5f12835a3dd7f938e565a84d\n",
      "yjs-blog\n",
      "yjs-files\n"
     ]
    }
   ],
   "source": [
    "# 列举按字典序排列在vr-foo之后的存储空间。列举结果中不包含名为vr-foo的存储空间。\n",
    "for b in oss2.BucketIterator(service, marker='vr-foo'):\n",
    "    print(b.name)"
   ]
  },
  {
   "cell_type": "markdown",
   "metadata": {},
   "source": [
    "### 上传文件"
   ]
  },
  {
   "cell_type": "markdown",
   "metadata": {},
   "source": [
    "#### 上传字符串"
   ]
  },
  {
   "cell_type": "code",
   "execution_count": 15,
   "metadata": {},
   "outputs": [
    {
     "name": "stdout",
     "output_type": "stream",
     "text": [
      "http status: 200\n",
      "request_id: 611FB2E23BC8193932FB3F68\n",
      "ETag: F0F18C2C66AE1DD512BDCD4366F76DA3\n",
      "date: Fri, 20 Aug 2021 13:49:22 GMT\n"
     ]
    }
   ],
   "source": [
    "# -*- coding: utf-8 -*-\n",
    "import oss2\n",
    "with open(\"../aliyun_key.json\" ,'r') as key:\n",
    "    AccessKeyDict=json.loads(key.read())\n",
    "AccessKeyId=AccessKeyDict[\"AccessKeyId\"]\n",
    "AccessKeySecret=AccessKeyDict[\"AccessKeySecret\"]\n",
    "# 阿里云账号AccessKey拥有所有API的访问权限，风险很高。强烈建议您创建并使用RAM用户进行API访问或日常运维，请登录RAM控制台创建RAM用户。\n",
    "auth = oss2.Auth(AccessKeyId, AccessKeySecret)\n",
    "# yourEndpoint填写Bucket所在地域对应的Endpoint。以华东1（杭州）为例，Endpoint填写为https://oss-cn-hangzhou.aliyuncs.com。\n",
    "# 填写Bucket名称。\n",
    "bucket = oss2.Bucket(auth, 'https://oss-cn-shanghai.aliyuncs.com', 'ocr-yjs')\n",
    "\n",
    "# 上传文件。\n",
    "# 如果需要在上传文件时设置文件存储类型（x-oss-storage-class）和访问权限（x-oss-object-acl），请在put_object中设置相关Header。\n",
    "# headers = dict()\n",
    "# headers[\"x-oss-storage-class\"] = \"Standard\"\n",
    "# headers[\"x-oss-object-acl\"] = oss2.OBJECT_ACL_PRIVATE\n",
    "# 填写Object完整路径和字符串。Object完整路径中不能包含Bucket名称。\n",
    "# result = bucket.put_object('exampleobject.txt', 'Hello OSS', headers=headers)\n",
    "result = bucket.put_object('exampleobject.txt', 'Hello OSS')\n",
    "# 用于将字符串上传到目标存储空间examplebucket中的exampleobject.txt文件。\n",
    "# HTTP返回码。\n",
    "print('http status: {0}'.format(result.status))\n",
    "# 请求ID。请求ID是本次请求的唯一标识，强烈建议在程序日志中添加此参数。\n",
    "print('request_id: {0}'.format(result.request_id))\n",
    "# ETag是put_object方法返回值特有的属性，用于标识一个Object的内容。\n",
    "print('ETag: {0}'.format(result.etag))\n",
    "# HTTP响应头部。\n",
    "print('date: {0}'.format(result.headers['date']))            "
   ]
  },
  {
   "cell_type": "markdown",
   "metadata": {},
   "source": [
    "#### 上传Bytes"
   ]
  },
  {
   "cell_type": "code",
   "execution_count": 16,
   "metadata": {},
   "outputs": [
    {
     "data": {
      "text/plain": [
       "<oss2.models.PutObjectResult at 0x1d373bb6eb0>"
      ]
     },
     "execution_count": 16,
     "metadata": {},
     "output_type": "execute_result"
    }
   ],
   "source": [
    "# 以下代码用于将res上传到目标存储空间examplebucket中的test.jpg文件。\n",
    "\n",
    "with open(\"test.jpg\",'rb') as file:\n",
    "    res=file.read()\n",
    "\n",
    "bucket.put_object('test.jpg', res)            \n"
   ]
  },
  {
   "cell_type": "markdown",
   "metadata": {},
   "source": [
    "#### 上传Unicode字符"
   ]
  },
  {
   "cell_type": "code",
   "execution_count": null,
   "metadata": {},
   "outputs": [],
   "source": [
    "# -*- coding: utf-8 -*-\n",
    "import oss2\n",
    "\n",
    "# 阿里云账号AccessKey拥有所有API的访问权限，风险很高。强烈建议您创建并使用RAM用户进行API访问或日常运维，请登录RAM控制台创建RAM用户。\n",
    "# yourEndpoint填写Bucket所在地域对应的Endpoint。以华东1（杭州）为例，Endpoint填写为https://oss-cn-hangzhou.aliyuncs.com。\n",
    "# 填写Bucket名称。\n",
    "\n",
    "# 填写Object完整路径和Unicode字符。Object完整路径中不能包含Bucket名称。\n",
    "bucket.put_object('exampleobject.txt', u'Hello OSS')            "
   ]
  },
  {
   "cell_type": "markdown",
   "metadata": {},
   "source": [
    "#### 上传网络流\n"
   ]
  },
  {
   "cell_type": "code",
   "execution_count": null,
   "metadata": {},
   "outputs": [],
   "source": [
    "# -*- coding: utf-8 -*-\n",
    "\n",
    "\n",
    "# requests.get返回的是一个可迭代对象（Iterable），此时Python SDK会通过Chunked Encoding方式上传。\n",
    "# 填写网络流地址。\n",
    "input = requests.get('http://www.aliyun.com')\n",
    "# 填写Object完整路径。Object完整路径中不能包含Bucket名称。\n",
    "bucket.put_object('exampleobject.txt', input)            "
   ]
  },
  {
   "cell_type": "markdown",
   "metadata": {},
   "source": [
    "#### 上传本地文件"
   ]
  },
  {
   "cell_type": "code",
   "execution_count": 17,
   "metadata": {},
   "outputs": [],
   "source": [
    "# -*- coding: utf-8 -*-\n",
    "import oss2\n",
    "import os\n",
    "\n",
    "# 必须以二进制的方式打开文件。\n",
    "# 填写本地文件的完整路径。如果未指定本地路径，则默认从示例程序所属项目对应本地路径中上传文件。\n",
    "with open('./test.jpg', 'rb') as fileobj:\n",
    "    # Seek方法用于指定从第1000个字节位置开始读写。上传时会从您指定的第1000个字节位置开始上传，直到文件结束。\n",
    "    # 填写Object完整路径。Object完整路径中不能包含Bucket名称。\n",
    "    bucket.put_object('test.jpg', fileobj)        "
   ]
  }
 ],
 "metadata": {
  "kernelspec": {
   "display_name": "Python 3",
   "language": "python",
   "name": "python3"
  },
  "language_info": {
   "codemirror_mode": {
    "name": "ipython",
    "version": 3
   },
   "file_extension": ".py",
   "mimetype": "text/x-python",
   "name": "python",
   "nbconvert_exporter": "python",
   "pygments_lexer": "ipython3",
   "version": "3.8.1"
  }
 },
 "nbformat": 4,
 "nbformat_minor": 1
}