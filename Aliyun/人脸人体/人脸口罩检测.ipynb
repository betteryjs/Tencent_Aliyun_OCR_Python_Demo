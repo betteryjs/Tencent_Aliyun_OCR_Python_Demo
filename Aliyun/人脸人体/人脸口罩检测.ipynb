{
 "cells": [
  {
   "cell_type": "code",
   "execution_count": 2,
   "metadata": {},
   "outputs": [],
   "source": [
    "import oss2\n",
    "import json\n",
    "import cv2\n",
    "import matplotlib.pyplot as plt\n",
    "%matplotlib inline\n",
    "import numpy as np\n",
    "with open(\"../aliyun_key.json\" ,'r') as key:\n",
    "    AccessKeyDict=json.loads(key.read())\n",
    "AccessKeyId=AccessKeyDict[\"AccessKeyId\"]\n",
    "AccessKeySecret=AccessKeyDict[\"AccessKeySecret\"]\n",
    "auth = oss2.Auth(AccessKeyId, AccessKeySecret)\n",
    "bucket = oss2.Bucket(auth, 'https://oss-cn-shanghai.aliyuncs.com', 'ocr-yjs')\n",
    "from aliyunsdkcore.client import AcsClient\n",
    "from aliyunsdkcore.acs_exception.exceptions import ClientException\n",
    "from aliyunsdkcore.acs_exception.exceptions import ServerException\n",
    "from aliyunsdkcore.auth.credentials import AccessKeyCredential\n",
    "from aliyunsdkcore.auth.credentials import StsTokenCredential\n",
    "credentials = AccessKeyCredential(AccessKeyId, AccessKeySecret)\n",
    "client = AcsClient(region_id='cn-shanghai', credential=credentials)\n",
    "import seaborn as sns"
   ]
  },
  {
   "cell_type": "code",
   "execution_count": 5,
   "metadata": {
    "scrolled": true
   },
   "outputs": [
    {
     "name": "stdout",
     "output_type": "stream",
     "text": [
      "{'RequestId': '87BFEDF1-D726-504E-8D54-C62B045B29ED', 'Data': {'Mask': 2, 'FaceProbability': 0.606296181678772}}\n"
     ]
    }
   ],
   "source": [
    "\"\"\"\n",
    "https://help.aliyun.com/document_detail/151970.htm\n",
    "人脸口罩检测\n",
    "\"\"\"\n",
    "\n",
    "from aliyunsdkfacebody.request.v20191230.DetectMaskRequest import DetectMaskRequest\n",
    "\n",
    "request = DetectMaskRequest()\n",
    "request.set_accept_format('json')\n",
    "\n",
    "filepath=\"images/带口罩.jpg\"\n",
    "with open(filepath, 'rb') as fileobj:\n",
    "    bucket.put_object(filepath, fileobj)\n",
    "url=\"https://ocr-yjs.oss-cn-shanghai.aliyuncs.com/\"+filepath\n",
    "request.set_ImageURL(url)\n",
    "\n",
    "response = client.do_action_with_exception(request)\n",
    "response=json.loads(str(response, encoding='utf-8'))\n",
    "print(response)"
   ]
  },
  {
   "cell_type": "code",
   "execution_count": 4,
   "metadata": {},
   "outputs": [
    {
     "name": "stdout",
     "output_type": "stream",
     "text": [
      "{'Mask': 1, 'FaceProbability': 0.8292270302772522}\n"
     ]
    }
   ],
   "source": [
    "Data=response[\"Data\"]\n",
    "print(Data)\n",
    "\n",
    "\"\"\"\n",
    "FaceProbability\tFloat\t0.63257104158401489\t\n",
    "检测结果置信度，取值范围0~1。\n",
    "\n",
    "Mask\tInteger\t2\t\n",
    "检测结果：\n",
    "        0：没有检测出人脸或人脸清晰度不够。\n",
    "        1：没有戴口罩。\n",
    "        2：有戴口罩。\n",
    "        3：口罩没有带好。\n",
    "\"\"\""
   ]
  }
 ],
 "metadata": {
  "kernelspec": {
   "display_name": "Python 3",
   "language": "python",
   "name": "python3"
  },
  "language_info": {
   "codemirror_mode": {
    "name": "ipython",
    "version": 3
   },
   "file_extension": ".py",
   "mimetype": "text/x-python",
   "name": "python",
   "nbconvert_exporter": "python",
   "pygments_lexer": "ipython3",
   "version": "3.6.13"
  }
 },
 "nbformat": 4,
 "nbformat_minor": 1
}