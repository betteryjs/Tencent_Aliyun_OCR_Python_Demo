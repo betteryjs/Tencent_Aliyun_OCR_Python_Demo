{
 "cells": [
  {
   "cell_type": "code",
   "execution_count": 1,
   "metadata": {},
   "outputs": [],
   "source": [
    "import oss2\n",
    "import json\n",
    "import cv2\n",
    "import matplotlib.pyplot as plt\n",
    "%matplotlib inline\n",
    "import numpy as np\n",
    "import requests\n",
    "with open(\"../aliyun_key.json\" ,'r') as key:\n",
    "    AccessKeyDict=json.loads(key.read())\n",
    "AccessKeyId=AccessKeyDict[\"AccessKeyId\"]\n",
    "AccessKeySecret=AccessKeyDict[\"AccessKeySecret\"]\n",
    "auth = oss2.Auth(AccessKeyId, AccessKeySecret)\n",
    "bucket = oss2.Bucket(auth, 'https://oss-cn-shanghai.aliyuncs.com', 'ocr-yjs')\n",
    "from aliyunsdkcore.client import AcsClient\n",
    "from aliyunsdkcore.acs_exception.exceptions import ClientException\n",
    "from aliyunsdkcore.acs_exception.exceptions import ServerException\n",
    "from aliyunsdkcore.auth.credentials import AccessKeyCredential\n",
    "from aliyunsdkcore.auth.credentials import StsTokenCredential\n",
    "credentials = AccessKeyCredential(AccessKeyId, AccessKeySecret)\n",
    "client = AcsClient(region_id='cn-shanghai', credential=credentials)\n",
    "import seaborn as sns"
   ]
  },
  {
   "cell_type": "code",
   "execution_count": 2,
   "metadata": {},
   "outputs": [
    {
     "name": "stdout",
     "output_type": "stream",
     "text": [
      "https://ocr-yjs.oss-cn-shanghai.aliyuncs.com/images/test2.jpg\n",
      "{'RequestId': 'A42FC644-0872-5A75-AB8D-5B82DA3C92A2', 'Data': {'ImageURL': 'http://vibktprfx-prod-prod-aic-gd-cn-shanghai.oss-cn-shanghai.aliyuncs.com/person-image-pencil/2a576735-93b8-4d8b-981d-0738b0b63bb3_24a7_20210821-014257.png?Expires=1629511977&OSSAccessKeyId=LTAI4FoLmvQ9urWXgSRpDvh1&Signature=vrpWk08uEoHDtCv07UAJ7LFPYAw%3D'}}\n"
     ]
    }
   ],
   "source": [
    "\"\"\"\n",
    "https://help.aliyun.com/document_detail/203509.html\n",
    "人像素描风格化\n",
    "人像素描风格化可以对一张人物图像自动裁剪其头部区域，生成大头照下的素描画效果。\n",
    "\"\"\"\n",
    "\n",
    "from aliyunsdkfacebody.request.v20191230.GenerateHumanSketchStyleRequest import GenerateHumanSketchStyleRequest\n",
    "\n",
    "request = GenerateHumanSketchStyleRequest()\n",
    "request.set_accept_format('json')\n",
    "\n",
    "filepath=\"images/test2.jpg\"\n",
    "with open(filepath, 'rb') as fileobj:\n",
    "    bucket.put_object(filepath, fileobj)\n",
    "url=\"https://ocr-yjs.oss-cn-shanghai.aliyuncs.com/\"+filepath\n",
    "print(url)\n",
    "\n",
    "request.set_ImageURL(url)\n",
    "request.set_ReturnType(\"full\")\n",
    "\n",
    "\n",
    "response = client.do_action_with_exception(request)\n",
    "response=json.loads(str(response, encoding='utf-8'))\n",
    "print(response)\n",
    "ImageURL=response[\"Data\"][\"ImageURL\"]"
   ]
  },
  {
   "cell_type": "code",
   "execution_count": 3,
   "metadata": {},
   "outputs": [
    {
     "data": {
      "text/plain": [
       "'\\nMakeupType\\tString\\t是\\twhole\\t\\n美妆类型，当前支持whole（整妆）。\\n\\nResourceType\\tString\\t是\\t0\\t\\n美妆使用的风格，具体包括：0（whole）、1（基础妆）、2（少女妆）、3（活力妆）、4（优雅妆）、5（魅惑妆）、6（梅子妆）。\\n\\nStrength\\tFloat\\t是\\t1\\t\\n美妆强度，取值范围0～1。\\n'"
      ]
     },
     "execution_count": 3,
     "metadata": {},
     "output_type": "execute_result"
    }
   ],
   "source": [
    "\"\"\"\n",
    "ImageURL\tString\t是\thttp://invi-label.oss-cn-shanghai.aliyuncs.com/label/temp/cartoon/test_data/g0.jpg\t\n",
    "图像URL地址。当前仅支持上海地域的OSS链接，如何生成URL请参见生成URL。\n",
    "\n",
    "ReturnType\tString\t否\thead\t\n",
    "图像返回形式。取值如下：\n",
    "\n",
    "head：大头照（默认）\n",
    "full：全身照\n",
    "推荐使用大头照，处理效果更佳。\n",
    "\"\"\""
   ]
  },
  {
   "cell_type": "code",
   "execution_count": 3,
   "metadata": {},
   "outputs": [],
   "source": [
    "with open(\"images/人像素描风格化后.jpg\",'wb') as file:\n",
    "    file.write(requests.get(ImageURL).content)"
   ]
  }
 ],
 "metadata": {
  "kernelspec": {
   "display_name": "Python 3",
   "language": "python",
   "name": "python3"
  },
  "language_info": {
   "codemirror_mode": {
    "name": "ipython",
    "version": 3
   },
   "file_extension": ".py",
   "mimetype": "text/x-python",
   "name": "python",
   "nbconvert_exporter": "python",
   "pygments_lexer": "ipython3",
   "version": "3.6.13"
  }
 },
 "nbformat": 4,
 "nbformat_minor": 1
}