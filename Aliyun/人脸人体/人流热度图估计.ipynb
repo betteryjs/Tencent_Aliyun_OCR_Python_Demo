{
 "cells": [
  {
   "cell_type": "code",
   "execution_count": 6,
   "metadata": {},
   "outputs": [],
   "source": [
    "import oss2\n",
    "import json\n",
    "import cv2\n",
    "import matplotlib.pyplot as plt\n",
    "import requests\n",
    "%matplotlib inline\n",
    "import numpy as np\n",
    "with open(\"../aliyun_key.json\" ,'r') as key:\n",
    "    AccessKeyDict=json.loads(key.read())\n",
    "AccessKeyId=AccessKeyDict[\"AccessKeyId\"]\n",
    "AccessKeySecret=AccessKeyDict[\"AccessKeySecret\"]\n",
    "auth = oss2.Auth(AccessKeyId, AccessKeySecret)\n",
    "bucket = oss2.Bucket(auth, 'https://oss-cn-shanghai.aliyuncs.com', 'ocr-yjs')\n",
    "from aliyunsdkcore.client import AcsClient\n",
    "from aliyunsdkcore.acs_exception.exceptions import ClientException\n",
    "from aliyunsdkcore.acs_exception.exceptions import ServerException\n",
    "from aliyunsdkcore.auth.credentials import AccessKeyCredential\n",
    "from aliyunsdkcore.auth.credentials import StsTokenCredential\n",
    "credentials = AccessKeyCredential(AccessKeyId, AccessKeySecret)\n",
    "client = AcsClient(region_id='cn-shanghai', credential=credentials)\n",
    "import seaborn as sns"
   ]
  },
  {
   "cell_type": "code",
   "execution_count": 3,
   "metadata": {
    "scrolled": true
   },
   "outputs": [
    {
     "name": "stdout",
     "output_type": "stream",
     "text": [
      "{'RequestId': 'BE7D8EE0-0448-591E-B7E9-310AEBE32B87', 'Data': {'PeopleNumber': 7, 'HotMap': 'http://vibktprfx-prod-prod-aic-iv-cn-shanghai.oss-cn-shanghai.aliyuncs.com/crowd-counting%2F084e29c19a44451eafb7d0a0dd648958.jpg?OSSAccessKeyId=LTAI4G4YbtUh1c7BhUoTTAzS&Expires=1629530913&Signature=Fz3VNjy2Wnbt4B72XVP302DZINI%3D'}}\n"
     ]
    }
   ],
   "source": [
    "\"\"\"\n",
    "\n",
    "https://help.aliyun.com/document_detail/188844.html\n",
    "人流热度图估计\n",
    "\n",
    "人流密集场所人数统计：在举办某些人流密度较高的活动时，例如庙会、烟火表演、\n",
    "演唱会等，通过实时图像可以估算出现场人数，为现场安保提供数据支撑。\n",
    "商场货品陈列：通过统计叠加一段时间内的人流热度图，可以获悉哪些区域有更多人流经过，\n",
    "推断客户对哪些商品更感兴趣，为商品陈列做参考，以获得更高客单价。\n",
    "\"\"\"\n",
    "\n",
    "from aliyunsdkfacebody.request.v20191230.CountCrowdRequest import CountCrowdRequest\n",
    "\n",
    "request = CountCrowdRequest()\n",
    "request.set_accept_format('json')\n",
    "\n",
    "filepath=\"images/manyperson.jpg\"\n",
    "with open(filepath, 'rb') as fileobj:\n",
    "    bucket.put_object(filepath, fileobj)\n",
    "url=\"https://ocr-yjs.oss-cn-shanghai.aliyuncs.com/\"+filepath\n",
    "request.set_ImageURL(url)\n",
    "request.set_IsShow(True)\n",
    "\n",
    "response = client.do_action_with_exception(request)\n",
    "response=json.loads(str(response, encoding='utf-8'))\n",
    "print(response)"
   ]
  },
  {
   "cell_type": "code",
   "execution_count": 4,
   "metadata": {},
   "outputs": [
    {
     "data": {
      "text/plain": [
       "7"
      ]
     },
     "execution_count": 4,
     "metadata": {},
     "output_type": "execute_result"
    }
   ],
   "source": [
    "PeopleNumber=response[\"Data\"][\"PeopleNumber\"]\n",
    "PeopleNumber"
   ]
  },
  {
   "cell_type": "code",
   "execution_count": 5,
   "metadata": {},
   "outputs": [
    {
     "data": {
      "text/plain": [
       "'http://vibktprfx-prod-prod-aic-iv-cn-shanghai.oss-cn-shanghai.aliyuncs.com/crowd-counting%2F084e29c19a44451eafb7d0a0dd648958.jpg?OSSAccessKeyId=LTAI4G4YbtUh1c7BhUoTTAzS&Expires=1629530913&Signature=Fz3VNjy2Wnbt4B72XVP302DZINI%3D'"
      ]
     },
     "execution_count": 5,
     "metadata": {},
     "output_type": "execute_result"
    }
   ],
   "source": [
    "HotMap=response[\"Data\"][\"HotMap\"]\n",
    "HotMap"
   ]
  },
  {
   "cell_type": "code",
   "execution_count": 7,
   "metadata": {},
   "outputs": [],
   "source": [
    "with open(\"./images/HotMap.jpg\",'wb') as file:\n",
    "    file.write(requests.get(response[\"Data\"][\"HotMap\"]).content)"
   ]
  }
 ],
 "metadata": {
  "kernelspec": {
   "display_name": "Python 3",
   "language": "python",
   "name": "python3"
  },
  "language_info": {
   "codemirror_mode": {
    "name": "ipython",
    "version": 3
   },
   "file_extension": ".py",
   "mimetype": "text/x-python",
   "name": "python",
   "nbconvert_exporter": "python",
   "pygments_lexer": "ipython3",
   "version": "3.6.13"
  }
 },
 "nbformat": 4,
 "nbformat_minor": 1
}