{
 "cells": [
  {
   "cell_type": "code",
   "execution_count": 1,
   "metadata": {},
   "outputs": [],
   "source": [
    "import oss2\n",
    "import json\n",
    "import cv2\n",
    "import matplotlib.pyplot as plt\n",
    "%matplotlib inline\n",
    "import numpy as np\n",
    "with open(\"../aliyun_key.json\" ,'r') as key:\n",
    "    AccessKeyDict=json.loads(key.read())\n",
    "AccessKeyId=AccessKeyDict[\"AccessKeyId\"]\n",
    "AccessKeySecret=AccessKeyDict[\"AccessKeySecret\"]\n",
    "auth = oss2.Auth(AccessKeyId, AccessKeySecret)\n",
    "bucket = oss2.Bucket(auth, 'https://oss-cn-shanghai.aliyuncs.com', 'ocr-yjs')\n",
    "from aliyunsdkcore.client import AcsClient\n",
    "from aliyunsdkcore.acs_exception.exceptions import ClientException\n",
    "from aliyunsdkcore.acs_exception.exceptions import ServerException\n",
    "from aliyunsdkcore.auth.credentials import AccessKeyCredential\n",
    "from aliyunsdkcore.auth.credentials import StsTokenCredential\n",
    "credentials = AccessKeyCredential(AccessKeyId, AccessKeySecret)\n",
    "client = AcsClient(region_id='cn-shanghai', credential=credentials)\n",
    "import seaborn as sns"
   ]
  },
  {
   "cell_type": "code",
   "execution_count": 14,
   "metadata": {
    "scrolled": true
   },
   "outputs": [
    {
     "name": "stdout",
     "output_type": "stream",
     "text": [
      "{'RequestId': 'BE56DC7E-36AD-5E37-8FF3-2C2DE6ED9360', 'Data': {'Elements': [{'Scores': [0.7167774438858032], 'Labels': ['打电话'], 'Timestamp': 1, 'Boxes': [{'Box': [17, 10, 1065, 1079]}]}, {'Scores': [0.6152593493461609, 0.5534712076187134, 0.5110916495323181], 'Labels': ['玩手机', '打电话', '趴桌睡觉'], 'Timestamp': 3, 'Boxes': [{'Box': [7, 43, 1078, 1079]}, {'Box': [7, 43, 1078, 1079]}, {'Box': [105, 50, 1071, 1079]}]}, {'Scores': [0.5405592322349548, 0.5000625848770142], 'Labels': ['玩手机', '趴桌睡觉'], 'Timestamp': 5, 'Boxes': [{'Box': [0, 83, 1088, 1079]}, {'Box': [104, 51, 1082, 1079]}]}]}}\n"
     ]
    }
   ],
   "source": [
    "\"\"\"\n",
    "\n",
    "https://help.aliyun.com/document_detail/172096.html\n",
    "动作行为识别\n",
    "动作行为识别可以识别视频和图像中的人体动作行为，并返回识别后的行为类别。当前可以识别的行为类别包括：举手、吃喝、吸烟、\n",
    "打电话、玩手机、趴桌睡觉、跌倒、洗手、拍照。您可以根据系统提供的动作置信度判断阈值，对识别的动作进行判断。\n",
    "\"\"\"\n",
    "\n",
    "from aliyunsdkfacebody.request.v20191230.RecognizeActionRequest import RecognizeActionRequest\n",
    "\n",
    "request = RecognizeActionRequest()\n",
    "request.set_accept_format('json')\n",
    "\n",
    "filepath=\"images/玩手机.mp4\"\n",
    "with open(filepath, 'rb') as fileobj:\n",
    "    bucket.put_object(filepath, fileobj)\n",
    "url=\"https://ocr-yjs.oss-cn-shanghai.aliyuncs.com/\"+filepath\n",
    "\n",
    "\n",
    "\n",
    "request.set_Type(0)\n",
    "request.set_VideoUrl(url)\n",
    "\n",
    "response = client.do_action_with_exception(request)\n",
    "response=json.loads(str(response, encoding='utf-8'))\n",
    "print(response)"
   ]
  },
  {
   "cell_type": "code",
   "execution_count": 18,
   "metadata": {},
   "outputs": [
    {
     "data": {
      "text/plain": [
       "[{'Scores': [0.7167774438858032],\n",
       "  'Labels': ['打电话'],\n",
       "  'Timestamp': 1,\n",
       "  'Boxes': [{'Box': [17, 10, 1065, 1079]}]},\n",
       " {'Scores': [0.6152593493461609, 0.5534712076187134, 0.5110916495323181],\n",
       "  'Labels': ['玩手机', '打电话', '趴桌睡觉'],\n",
       "  'Timestamp': 3,\n",
       "  'Boxes': [{'Box': [7, 43, 1078, 1079]},\n",
       "   {'Box': [7, 43, 1078, 1079]},\n",
       "   {'Box': [105, 50, 1071, 1079]}]},\n",
       " {'Scores': [0.5405592322349548, 0.5000625848770142],\n",
       "  'Labels': ['玩手机', '趴桌睡觉'],\n",
       "  'Timestamp': 5,\n",
       "  'Boxes': [{'Box': [0, 83, 1088, 1079]}, {'Box': [104, 51, 1082, 1079]}]}]"
      ]
     },
     "execution_count": 18,
     "metadata": {},
     "output_type": "execute_result"
    }
   ],
   "source": [
    "response['Data']['Elements']"
   ]
  }
 ],
 "metadata": {
  "kernelspec": {
   "display_name": "Python 3",
   "language": "python",
   "name": "python3"
  },
  "language_info": {
   "codemirror_mode": {
    "name": "ipython",
    "version": 3
   },
   "file_extension": ".py",
   "mimetype": "text/x-python",
   "name": "python",
   "nbconvert_exporter": "python",
   "pygments_lexer": "ipython3",
   "version": "3.6.13"
  }
 },
 "nbformat": 4,
 "nbformat_minor": 1
}