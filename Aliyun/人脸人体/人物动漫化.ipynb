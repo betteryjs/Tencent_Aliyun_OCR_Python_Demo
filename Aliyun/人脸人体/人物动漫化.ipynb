{
 "cells": [
  {
   "cell_type": "code",
   "execution_count": 1,
   "metadata": {},
   "outputs": [],
   "source": [
    "import oss2\n",
    "import json\n",
    "import cv2\n",
    "import matplotlib.pyplot as plt\n",
    "%matplotlib inline\n",
    "import numpy as np\n",
    "import requests\n",
    "with open(\"../aliyun_key.json\" ,'r') as key:\n",
    "    AccessKeyDict=json.loads(key.read())\n",
    "AccessKeyId=AccessKeyDict[\"AccessKeyId\"]\n",
    "AccessKeySecret=AccessKeyDict[\"AccessKeySecret\"]\n",
    "auth = oss2.Auth(AccessKeyId, AccessKeySecret)\n",
    "bucket = oss2.Bucket(auth, 'https://oss-cn-shanghai.aliyuncs.com', 'ocr-yjs')\n",
    "from aliyunsdkcore.client import AcsClient\n",
    "from aliyunsdkcore.acs_exception.exceptions import ClientException\n",
    "from aliyunsdkcore.acs_exception.exceptions import ServerException\n",
    "from aliyunsdkcore.auth.credentials import AccessKeyCredential\n",
    "from aliyunsdkcore.auth.credentials import StsTokenCredential\n",
    "credentials = AccessKeyCredential(AccessKeyId, AccessKeySecret)\n",
    "client = AcsClient(region_id='cn-shanghai', credential=credentials)\n",
    "import seaborn as sns"
   ]
  },
  {
   "cell_type": "code",
   "execution_count": 2,
   "metadata": {},
   "outputs": [
    {
     "name": "stdout",
     "output_type": "stream",
     "text": [
      "https://ocr-yjs.oss-cn-shanghai.aliyuncs.com/images/test2.jpg\n",
      "{'RequestId': '121A4115-1EDA-56C9-9D43-FA2D15E20F90', 'Data': {'ImageURL': 'http://vibktprfx-prod-prod-aic-gd-cn-shanghai.oss-cn-shanghai.aliyuncs.com/person-image-cartoonizer/121A4115-1EDA-56C9-9D43-FA2D15E20F90_cc9f_20210821-012200.png?Expires=1629510720&OSSAccessKeyId=LTAI4FoLmvQ9urWXgSRpDvh1&Signature=ErN9Wyg%2FZs98r1EYfflLjQJqpRQ%3D'}}\n"
     ]
    }
   ],
   "source": [
    "\"\"\"\n",
    "https://help.aliyun.com/document_detail/188840.html\n",
    "人物动漫化\n",
    "人物动漫化可以将一张人物图像进行转换处理，生成二次元卡通形象，并返回卡通化后的结果图像\n",
    "\"\"\"\n",
    "\n",
    "from aliyunsdkfacebody.request.v20191230.GenerateHumanAnimeStyleRequest import GenerateHumanAnimeStyleRequest\n",
    "\n",
    "request = GenerateHumanAnimeStyleRequest()\n",
    "request.set_accept_format('json')\n",
    "\n",
    "filepath=\"images/test2.jpg\"\n",
    "with open(filepath, 'rb') as fileobj:\n",
    "    bucket.put_object(filepath, fileobj)\n",
    "url=\"https://ocr-yjs.oss-cn-shanghai.aliyuncs.com/\"+filepath\n",
    "print(url)\n",
    "request.set_ImageURL(url)\n",
    "request.set_AlgoType(\"anime\")\n",
    "\n",
    "\n",
    "\n",
    "\n",
    "response = client.do_action_with_exception(request)\n",
    "response=json.loads(str(response, encoding='utf-8'))\n",
    "print(response)\n",
    "ImageURL=response[\"Data\"][\"ImageURL\"]"
   ]
  },
  {
   "cell_type": "code",
   "execution_count": 16,
   "metadata": {},
   "outputs": [
    {
     "data": {
      "text/plain": [
       "'\\nSharp\\tFloat\\t是\\t1\\t\\n锐化（清晰度）程度，取值范围0~1。越接近1锐化程度越高。\\n\\nSmooth\\tFloat\\t是\\t0.1\\t\\n平滑程度，取值范围0~1。越接近1平滑程度越高。\\n\\nWhite\\tFloat\\t是\\t0.3\\t\\n美白程度，取值范围0~1。越接近1美白程度越高。\\n'"
      ]
     },
     "execution_count": 16,
     "metadata": {},
     "output_type": "execute_result"
    }
   ],
   "source": [
    "\"\"\"\n",
    "ImageURL\tString\t是\thttp://invi-label.oss-cn-shanghai.aliyuncs.com/label/temp/cartoon/test_data/g1.png\t\n",
    "图像URL地址。当前仅支持上海地域的OSS链接，如何生成URL请参见生成URL。\n",
    "\n",
    "AlgoType\tString\t否\tanime\t\n",
    "默认固定为anime，生成日韩卡通效果。\n",
    "\"\"\""
   ]
  },
  {
   "cell_type": "code",
   "execution_count": 3,
   "metadata": {},
   "outputs": [],
   "source": [
    "with open(\"images/人物动漫化后.jpg\",'wb') as file:\n",
    "    file.write(requests.get(ImageURL).content)"
   ]
  }
 ],
 "metadata": {
  "kernelspec": {
   "display_name": "Python 3",
   "language": "python",
   "name": "python3"
  },
  "language_info": {
   "codemirror_mode": {
    "name": "ipython",
    "version": 3
   },
   "file_extension": ".py",
   "mimetype": "text/x-python",
   "name": "python",
   "nbconvert_exporter": "python",
   "pygments_lexer": "ipython3",
   "version": "3.6.13"
  }
 },
 "nbformat": 4,
 "nbformat_minor": 1
}