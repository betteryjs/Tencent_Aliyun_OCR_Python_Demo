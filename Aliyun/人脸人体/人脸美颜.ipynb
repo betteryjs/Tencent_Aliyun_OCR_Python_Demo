{
 "cells": [
  {
   "cell_type": "code",
   "execution_count": 33,
   "metadata": {},
   "outputs": [],
   "source": [
    "import oss2\n",
    "import json\n",
    "import cv2\n",
    "import matplotlib.pyplot as plt\n",
    "%matplotlib inline\n",
    "import numpy as np\n",
    "import requests\n",
    "with open(\"../aliyun_key.json\" ,'r') as key:\n",
    "    AccessKeyDict=json.loads(key.read())\n",
    "AccessKeyId=AccessKeyDict[\"AccessKeyId\"]\n",
    "AccessKeySecret=AccessKeyDict[\"AccessKeySecret\"]\n",
    "auth = oss2.Auth(AccessKeyId, AccessKeySecret)\n",
    "bucket = oss2.Bucket(auth, 'https://oss-cn-shanghai.aliyuncs.com', 'ocr-yjs')\n",
    "from aliyunsdkcore.client import AcsClient\n",
    "from aliyunsdkcore.acs_exception.exceptions import ClientException\n",
    "from aliyunsdkcore.acs_exception.exceptions import ServerException\n",
    "from aliyunsdkcore.auth.credentials import AccessKeyCredential\n",
    "from aliyunsdkcore.auth.credentials import StsTokenCredential\n",
    "credentials = AccessKeyCredential(AccessKeyId, AccessKeySecret)\n",
    "client = AcsClient(region_id='cn-shanghai', credential=credentials)\n",
    "import seaborn as sns"
   ]
  },
  {
   "cell_type": "code",
   "execution_count": 13,
   "metadata": {},
   "outputs": [
    {
     "name": "stdout",
     "output_type": "stream",
     "text": [
      "https://ocr-yjs.oss-cn-shanghai.aliyuncs.com/images/test2.jpg\n",
      "{'RequestId': 'BC802D49-CA9C-58F7-9447-8C2434CB880A', 'Data': {'ImageURL': 'http://vibktprfx-prod-prod-aic-vc-cn-shanghai.oss-cn-shanghai.aliyuncs.com/vc-face-retouch%2F2021_03_19%2Fdc680ba7f78d1a91_test2.jpg?OSSAccessKeyId=LTAI4G1cS9B8ce5WK6FaBTZM&Expires=1629593520&Signature=6bwkX%2FRHx%2FDZIs5IySTakFtKwwM%3D'}}\n"
     ]
    }
   ],
   "source": [
    "\"\"\"\n",
    "https://help.aliyun.com/document_detail/159210.htm\n",
    "人脸美颜\n",
    "人脸美颜可以对图像中的人脸进行美颜，包括磨皮、美白、去除黑眼圈、法令纹等。\n",
    "\"\"\"\n",
    "\n",
    "from aliyunsdkfacebody.request.v20191230.FaceBeautyRequest import FaceBeautyRequest\n",
    "\n",
    "request = FaceBeautyRequest()\n",
    "request.set_accept_format('json')\n",
    "\n",
    "filepath=\"images/test2.jpg\"\n",
    "with open(filepath, 'rb') as fileobj:\n",
    "    bucket.put_object(filepath, fileobj)\n",
    "url=\"https://ocr-yjs.oss-cn-shanghai.aliyuncs.com/\"+filepath\n",
    "print(url)\n",
    "request.set_ImageURL(url)\n",
    "request.set_Sharp(0.5)\n",
    "request.set_Smooth(0.5)\n",
    "request.set_White(0.6)\n",
    "response = client.do_action_with_exception(request)\n",
    "response=json.loads(str(response, encoding='utf-8'))\n",
    "print(response)"
   ]
  },
  {
   "cell_type": "code",
   "execution_count": 30,
   "metadata": {},
   "outputs": [
    {
     "data": {
      "text/plain": [
       "'http://vibktprfx-prod-prod-aic-vc-cn-shanghai.oss-cn-shanghai.aliyuncs.com/vc-face-retouch%2F2021_03_19%2Fdc680ba7f78d1a91_test2.jpg?OSSAccessKeyId=LTAI4G1cS9B8ce5WK6FaBTZM&Expires=1629593520&Signature=6bwkX%2FRHx%2FDZIs5IySTakFtKwwM%3D'"
      ]
     },
     "execution_count": 30,
     "metadata": {},
     "output_type": "execute_result"
    }
   ],
   "source": [
    "ImageURL=response[\"Data\"][\"ImageURL\"]\n",
    "\n",
    "ImageURL"
   ]
  },
  {
   "cell_type": "code",
   "execution_count": 16,
   "metadata": {},
   "outputs": [
    {
     "data": {
      "text/plain": [
       "'\\nSharp\\tFloat\\t是\\t1\\t\\n锐化（清晰度）程度，取值范围0~1。越接近1锐化程度越高。\\n\\nSmooth\\tFloat\\t是\\t0.1\\t\\n平滑程度，取值范围0~1。越接近1平滑程度越高。\\n\\nWhite\\tFloat\\t是\\t0.3\\t\\n美白程度，取值范围0~1。越接近1美白程度越高。\\n'"
      ]
     },
     "execution_count": 16,
     "metadata": {},
     "output_type": "execute_result"
    }
   ],
   "source": [
    "\"\"\"\n",
    "Sharp\tFloat\t是\t1\t\n",
    "锐化（清晰度）程度，取值范围0~1。越接近1锐化程度越高。\n",
    "\n",
    "Smooth\tFloat\t是\t0.1\t\n",
    "平滑程度，取值范围0~1。越接近1平滑程度越高。\n",
    "\n",
    "White\tFloat\t是\t0.3\t\n",
    "美白程度，取值范围0~1。越接近1美白程度越高。\n",
    "\"\"\""
   ]
  },
  {
   "cell_type": "code",
   "execution_count": 34,
   "metadata": {},
   "outputs": [],
   "source": [
    "with open(\"images/人脸美颜后.jpg\",'wb') as file:\n",
    "    file.write(requests.get(ImageURL).content)"
   ]
  }
 ],
 "metadata": {
  "kernelspec": {
   "display_name": "Python 3",
   "language": "python",
   "name": "python3"
  },
  "language_info": {
   "codemirror_mode": {
    "name": "ipython",
    "version": 3
   },
   "file_extension": ".py",
   "mimetype": "text/x-python",
   "name": "python",
   "nbconvert_exporter": "python",
   "pygments_lexer": "ipython3",
   "version": "3.6.13"
  }
 },
 "nbformat": 4,
 "nbformat_minor": 1
}