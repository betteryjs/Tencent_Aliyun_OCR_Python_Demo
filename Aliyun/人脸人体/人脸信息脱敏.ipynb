{
 "cells": [
  {
   "cell_type": "code",
   "execution_count": 1,
   "metadata": {},
   "outputs": [],
   "source": [
    "import oss2\n",
    "import json\n",
    "import cv2\n",
    "import matplotlib.pyplot as plt\n",
    "%matplotlib inline\n",
    "import numpy as np\n",
    "import requests\n",
    "with open(\"../aliyun_key.json\" ,'r') as key:\n",
    "    AccessKeyDict=json.loads(key.read())\n",
    "AccessKeyId=AccessKeyDict[\"AccessKeyId\"]\n",
    "AccessKeySecret=AccessKeyDict[\"AccessKeySecret\"]\n",
    "auth = oss2.Auth(AccessKeyId, AccessKeySecret)\n",
    "bucket = oss2.Bucket(auth, 'https://oss-cn-shanghai.aliyuncs.com', 'ocr-yjs')\n",
    "from aliyunsdkcore.client import AcsClient\n",
    "from aliyunsdkcore.acs_exception.exceptions import ClientException\n",
    "from aliyunsdkcore.acs_exception.exceptions import ServerException\n",
    "from aliyunsdkcore.auth.credentials import AccessKeyCredential\n",
    "from aliyunsdkcore.auth.credentials import StsTokenCredential\n",
    "credentials = AccessKeyCredential(AccessKeyId, AccessKeySecret)\n",
    "client = AcsClient(region_id='cn-shanghai', credential=credentials)\n",
    "import seaborn as sns"
   ]
  },
  {
   "cell_type": "code",
   "execution_count": 2,
   "metadata": {},
   "outputs": [
    {
     "name": "stdout",
     "output_type": "stream",
     "text": [
      "https://ocr-yjs.oss-cn-shanghai.aliyuncs.com/images/test2.jpg\n",
      "{'RequestId': '473EFAA0-2875-54C9-B1FD-BF96DA6E8B58', 'Data': {'ImageURL': 'http://viapi-cn-shanghai-dha-segmenter.oss-cn-shanghai.aliyuncs.com/upload/result_FaceBlur/2021-8-21/invi_FaceBlur_016295088010112234263_OwwTIk.jpg?Expires=1629510601&OSSAccessKeyId=LTAI4FoLmvQ9urWXgSRpDvh1&Signature=iausdb0ZYBOhAOOtdUI3kh0GfkQ%3D'}}\n"
     ]
    }
   ],
   "source": [
    "\"\"\"\n",
    "https://help.aliyun.com/document_detail/179240.html\n",
    "人脸信息脱敏\n",
    "人脸信息脱敏对输入图像中的人脸进行模糊处理，输出脱敏后的图像。\n",
    "\"\"\"\n",
    "\n",
    "from aliyunsdkfacebody.request.v20191230.BlurFaceRequest import BlurFaceRequest\n",
    "\n",
    "request = BlurFaceRequest()\n",
    "request.set_accept_format('json')\n",
    "\n",
    "filepath=\"images/test2.jpg\"\n",
    "with open(filepath, 'rb') as fileobj:\n",
    "    bucket.put_object(filepath, fileobj)\n",
    "url=\"https://ocr-yjs.oss-cn-shanghai.aliyuncs.com/\"+filepath\n",
    "print(url)\n",
    "\n",
    "request.set_ImageURL(url)\n",
    "\n",
    "\n",
    "\n",
    "\n",
    "response = client.do_action_with_exception(request)\n",
    "response=json.loads(str(response, encoding='utf-8'))\n",
    "print(response)\n",
    "ImageURL=response[\"Data\"][\"ImageURL\"]"
   ]
  },
  {
   "cell_type": "code",
   "execution_count": 3,
   "metadata": {},
   "outputs": [
    {
     "data": {
      "text/plain": [
       "'\\nMakeupType\\tString\\t是\\twhole\\t\\n美妆类型，当前支持whole（整妆）。\\n\\nResourceType\\tString\\t是\\t0\\t\\n美妆使用的风格，具体包括：0（whole）、1（基础妆）、2（少女妆）、3（活力妆）、4（优雅妆）、5（魅惑妆）、6（梅子妆）。\\n\\nStrength\\tFloat\\t是\\t1\\t\\n美妆强度，取值范围0～1。\\n'"
      ]
     },
     "execution_count": 3,
     "metadata": {},
     "output_type": "execute_result"
    }
   ],
   "source": [
    "\"\"\"\n",
    "MakeupType\tString\t是\twhole\t\n",
    "美妆类型，当前支持whole（整妆）。\n",
    "\n",
    "ResourceType\tString\t是\t0\t\n",
    "美妆使用的风格，具体包括：0（whole）、1（基础妆）、2（少女妆）、3（活力妆）、4（优雅妆）、5（魅惑妆）、6（梅子妆）。\n",
    "\n",
    "Strength\tFloat\t是\t1\t\n",
    "美妆强度，取值范围0～1。\n",
    "\"\"\""
   ]
  },
  {
   "cell_type": "code",
   "execution_count": 4,
   "metadata": {},
   "outputs": [],
   "source": [
    "with open(\"images/人脸信息脱敏后.jpg\",'wb') as file:\n",
    "    file.write(requests.get(ImageURL).content)"
   ]
  }
 ],
 "metadata": {
  "kernelspec": {
   "display_name": "Python 3",
   "language": "python",
   "name": "python3"
  },
  "language_info": {
   "codemirror_mode": {
    "name": "ipython",
    "version": 3
   },
   "file_extension": ".py",
   "mimetype": "text/x-python",
   "name": "python",
   "nbconvert_exporter": "python",
   "pygments_lexer": "ipython3",
   "version": "3.6.13"
  }
 },
 "nbformat": 4,
 "nbformat_minor": 1
}