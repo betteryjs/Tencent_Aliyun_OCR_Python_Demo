{
 "cells": [
  {
   "cell_type": "code",
   "execution_count": 2,
   "metadata": {},
   "outputs": [],
   "source": [
    "import oss2\n",
    "import json\n",
    "import cv2\n",
    "import matplotlib.pyplot as plt\n",
    "%matplotlib inline\n",
    "import numpy as np\n",
    "import requests\n",
    "with open(\"../aliyun_key.json\" ,'r') as key:\n",
    "    AccessKeyDict=json.loads(key.read())\n",
    "AccessKeyId=AccessKeyDict[\"AccessKeyId\"]\n",
    "AccessKeySecret=AccessKeyDict[\"AccessKeySecret\"]\n",
    "auth = oss2.Auth(AccessKeyId, AccessKeySecret)\n",
    "bucket = oss2.Bucket(auth, 'https://oss-cn-shanghai.aliyuncs.com', 'ocr-yjs')\n",
    "from aliyunsdkcore.client import AcsClient\n",
    "from aliyunsdkcore.acs_exception.exceptions import ClientException\n",
    "from aliyunsdkcore.acs_exception.exceptions import ServerException\n",
    "from aliyunsdkcore.auth.credentials import AccessKeyCredential\n",
    "from aliyunsdkcore.auth.credentials import StsTokenCredential\n",
    "credentials = AccessKeyCredential(AccessKeyId, AccessKeySecret)\n",
    "client = AcsClient(region_id='cn-shanghai', credential=credentials)\n",
    "import seaborn as sns"
   ]
  },
  {
   "cell_type": "code",
   "execution_count": 7,
   "metadata": {},
   "outputs": [
    {
     "name": "stdout",
     "output_type": "stream",
     "text": [
      "https://ocr-yjs.oss-cn-shanghai.aliyuncs.com/images/test2.jpg\n",
      "{'RequestId': '11521381-4430-5C7C-8272-1F78C527C870', 'Data': {'ImageURL': 'http://algo-app-taobao-mm-cn-shanghai-prod.oss-cn-shanghai.aliyuncs.com/pixelai-portrait-filter/2020_11_17/e4810bed76b22657_test2.jpg?Expires=1629509438&OSSAccessKeyId=LTAI4FoLmvQ9urWXgSRpDvh1&Signature=ykQnkhjQA69FeW%2FIMtArJ778r0w%3D'}}\n"
     ]
    }
   ],
   "source": [
    "\"\"\"\n",
    "https://help.aliyun.com/document_detail/159146.html\n",
    "人脸滤镜\n",
    "摄影后期制作：添加AI滤镜，对输入图片进行统一的风格修改。\n",
    "视频直播：对直播视频进行统一的风格处理，使得内容更有个性\n",
    "\"\"\"\n",
    "\n",
    "from aliyunsdkfacebody.request.v20191230.FaceFilterRequest import FaceFilterRequest\n",
    "\n",
    "request = FaceFilterRequest()\n",
    "request.set_accept_format('json')\n",
    "\n",
    "filepath=\"images/test2.jpg\"\n",
    "with open(filepath, 'rb') as fileobj:\n",
    "    bucket.put_object(filepath, fileobj)\n",
    "url=\"https://ocr-yjs.oss-cn-shanghai.aliyuncs.com/\"+filepath\n",
    "print(url)\n",
    "request.set_ImageURL(url)\n",
    "request.set_ResourceType(\"向日葵\")\n",
    "request.set_Strength(0.8)\n",
    "response = client.do_action_with_exception(request)\n",
    "response=json.loads(str(response, encoding='utf-8'))\n",
    "print(response)"
   ]
  },
  {
   "cell_type": "code",
   "execution_count": 8,
   "metadata": {},
   "outputs": [
    {
     "data": {
      "text/plain": [
       "'http://algo-app-taobao-mm-cn-shanghai-prod.oss-cn-shanghai.aliyuncs.com/pixelai-portrait-filter/2020_11_17/e4810bed76b22657_test2.jpg?Expires=1629509438&OSSAccessKeyId=LTAI4FoLmvQ9urWXgSRpDvh1&Signature=ykQnkhjQA69FeW%2FIMtArJ778r0w%3D'"
      ]
     },
     "execution_count": 8,
     "metadata": {},
     "output_type": "execute_result"
    }
   ],
   "source": [
    "ImageURL=response[\"Data\"][\"ImageURL\"]\n",
    "\n",
    "ImageURL"
   ]
  },
  {
   "cell_type": "code",
   "execution_count": 5,
   "metadata": {},
   "outputs": [
    {
     "data": {
      "text/plain": [
       "'\\nResourceType\\tString\\t是\\t垦丁\\t\\n选择图片风格，包括：默认、向日葵、桔梗、垦丁、大理、丽江。\\n\\nStrength\\tFloat\\t是\\t0.8\\t\\n滤镜强度，取值范围0~1。\\n'"
      ]
     },
     "execution_count": 5,
     "metadata": {},
     "output_type": "execute_result"
    }
   ],
   "source": [
    "\"\"\"\n",
    "ResourceType\tString\t是\t垦丁\t\n",
    "选择图片风格，包括：默认、向日葵、桔梗、垦丁、大理、丽江。\n",
    "\n",
    "Strength\tFloat\t是\t0.8\t\n",
    "滤镜强度，取值范围0~1。\n",
    "\"\"\""
   ]
  },
  {
   "cell_type": "code",
   "execution_count": 9,
   "metadata": {},
   "outputs": [],
   "source": [
    "with open(\"images/人脸滤镜后.jpg\",'wb') as file:\n",
    "    file.write(requests.get(ImageURL).content)"
   ]
  }
 ],
 "metadata": {
  "kernelspec": {
   "display_name": "Python 3",
   "language": "python",
   "name": "python3"
  },
  "language_info": {
   "codemirror_mode": {
    "name": "ipython",
    "version": 3
   },
   "file_extension": ".py",
   "mimetype": "text/x-python",
   "name": "python",
   "nbconvert_exporter": "python",
   "pygments_lexer": "ipython3",
   "version": "3.6.13"
  }
 },
 "nbformat": 4,
 "nbformat_minor": 1
}