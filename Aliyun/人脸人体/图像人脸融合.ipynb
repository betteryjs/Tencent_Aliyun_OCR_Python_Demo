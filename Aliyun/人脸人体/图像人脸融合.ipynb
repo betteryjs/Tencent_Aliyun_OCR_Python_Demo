{
 "cells": [
  {
   "cell_type": "code",
   "execution_count": 27,
   "metadata": {},
   "outputs": [],
   "source": [
    "import oss2\n",
    "import json\n",
    "import cv2\n",
    "import matplotlib.pyplot as plt\n",
    "%matplotlib inline\n",
    "import numpy as np\n",
    "import requests\n",
    "with open(\"../aliyun_key.json\" ,'r') as key:\n",
    "    AccessKeyDict=json.loads(key.read())\n",
    "AccessKeyId=AccessKeyDict[\"AccessKeyId\"]\n",
    "AccessKeySecret=AccessKeyDict[\"AccessKeySecret\"]\n",
    "auth = oss2.Auth(AccessKeyId, AccessKeySecret)\n",
    "bucket = oss2.Bucket(auth, 'https://oss-cn-shanghai.aliyuncs.com', 'ocr-yjs')\n",
    "from aliyunsdkcore.client import AcsClient\n",
    "from aliyunsdkcore.acs_exception.exceptions import ClientException\n",
    "from aliyunsdkcore.acs_exception.exceptions import ServerException\n",
    "from aliyunsdkcore.auth.credentials import AccessKeyCredential\n",
    "from aliyunsdkcore.auth.credentials import StsTokenCredential\n",
    "credentials = AccessKeyCredential(AccessKeyId, AccessKeySecret)\n",
    "client = AcsClient(region_id='cn-shanghai', credential=credentials)\n",
    "import seaborn as sns\n",
    "import uuid\n",
    "from urllib.parse import quote"
   ]
  },
  {
   "cell_type": "code",
   "execution_count": 17,
   "metadata": {},
   "outputs": [
    {
     "name": "stdout",
     "output_type": "stream",
     "text": [
      "{'RequestId': '66DEABAE-C9E9-5B71-82B5-75AFFDFFBFBD', 'Data': {'TemplateId': '839a8073-2a11-4ef2-99e0-48f1ee626f71'}}\n"
     ]
    }
   ],
   "source": [
    "\"\"\"\n",
    "https://help.aliyun.com/document_detail/203512.html\n",
    "添加人脸图像模板\n",
    "\"\"\"\n",
    "from aliyunsdkfacebody.request.v20191230.AddFaceImageTemplateRequest import AddFaceImageTemplateRequest\n",
    "\n",
    "request = AddFaceImageTemplateRequest()\n",
    "request.set_accept_format('json')\n",
    "\n",
    "filepath=\"images/test2.jpg\"\n",
    "\n",
    "\n",
    "def get_url(filepath):\n",
    "    with open(filepath, 'rb') as fileobj:\n",
    "        bucket.put_object(filepath, fileobj)\n",
    "    url=\"https://ocr-yjs.oss-cn-shanghai.aliyuncs.com/\"+filepath\n",
    "    return url\n",
    "\n",
    "url=get_url(filepath)   \n",
    "UserId=str(uuid.uuid4())\n",
    "request.set_UserId(UserId)\n",
    "\n",
    "request.set_ImageURL(url)\n",
    "\n",
    "response = client.do_action_with_exception(request)\n",
    "response=json.loads(str(response, encoding='utf-8'))\n",
    "print(response)\n",
    "\n",
    "TemplateId=response['Data']['TemplateId']"
   ]
  },
  {
   "cell_type": "code",
   "execution_count": 18,
   "metadata": {},
   "outputs": [
    {
     "name": "stdout",
     "output_type": "stream",
     "text": [
      "{'RequestId': 'E7CD1102-4753-5243-9263-C7E1C04D6A3B', 'Data': {'Elements': [{'TemplateURL': 'http://vibktprfx-prod-prod-aic-gd-cn-shanghai.oss-cn-shanghai.aliyuncs.com/image-face-fusion/OriginUrl/user/2021-08-21/cc769a7a-afc7-4571-b919-ad5e65a45546?Expires=1629512823&OSSAccessKeyId=LTAI4FoLmvQ9urWXgSRpDvh1&Signature=WmlcXjSjksXdO0QJZ3hFTGVFuX8%3D', 'UserId': '88148e52-bc8f-4d59-b60e-e8f4ea01a16d', 'CreateTime': '2021-08-21 09:57:00', 'UpdateTime': '2021-08-21 09:57:00', 'TemplateId': '839a8073-2a11-4ef2-99e0-48f1ee626f71'}]}}\n"
     ]
    }
   ],
   "source": [
    "\"\"\"\n",
    "https://help.aliyun.com/document_detail/203511.html\n",
    "图像人脸融合模板查询\n",
    "图像人脸融合模板查询功能可以查询已创建的人脸模板。\n",
    "\"\"\"\n",
    "from aliyunsdkfacebody.request.v20191230.QueryFaceImageTemplateRequest import QueryFaceImageTemplateRequest\n",
    "try:\n",
    "    request = QueryFaceImageTemplateRequest()\n",
    "    request.set_accept_format('json')\n",
    "\n",
    "    request.set_UserId(UserId)\n",
    "    request.set_TemplateId(TemplateId)\n",
    "\n",
    "\n",
    "    response = client.do_action_with_exception(request)\n",
    "    response=json.loads(str(response, encoding='utf-8'))\n",
    "    print(response)\n",
    "except Exception as error:\n",
    "    print(error)\n"
   ]
  },
  {
   "cell_type": "code",
   "execution_count": 7,
   "metadata": {},
   "outputs": [
    {
     "name": "stdout",
     "output_type": "stream",
     "text": [
      "{'RequestId': 'D302BA51-8833-5716-A635-EFE67971F051'}\n"
     ]
    }
   ],
   "source": [
    "\"\"\"\n",
    "https://help.aliyun.com/document_detail/203513.html\n",
    "图像人脸融合模板删除\n",
    "图像人脸融合模板查询功能可以删除已创建的人脸模板。\n",
    "\"\"\"\n",
    "\n",
    "from aliyunsdkfacebody.request.v20191230.DeleteFaceImageTemplateRequest import DeleteFaceImageTemplateRequest\n",
    "\n",
    "\n",
    "request = DeleteFaceImageTemplateRequest()\n",
    "request.set_accept_format('json')\n",
    "\n",
    "request.set_UserId(UserId)\n",
    "request.set_TemplateId(TemplateId)\n",
    "\n",
    "response = client.do_action_with_exception(request)\n",
    "response=json.loads(str(response, encoding='utf-8'))\n",
    "print(response)"
   ]
  },
  {
   "cell_type": "code",
   "execution_count": 37,
   "metadata": {},
   "outputs": [
    {
     "name": "stdout",
     "output_type": "stream",
     "text": [
      "https://ocr-yjs.oss-cn-shanghai.aliyuncs.com/images/qqq.jpg\n",
      "{'RequestId': '6336B1FA-7F93-57DE-9078-D80C384DE6F1', 'Data': {'ImageURL': 'http://vibktprfx-prod-prod-aic-gd-cn-shanghai.oss-cn-shanghai.aliyuncs.com/image-face-fusion/b83ba80b-99a4-4448-8a9c-a29a752a40ab_7b04_20210821-021716.jpg?Expires=1629514036&OSSAccessKeyId=LTAI4FoLmvQ9urWXgSRpDvh1&Signature=Je3SjKEQAXfKmBqWBj580sL6CQw%3D'}}\n"
     ]
    }
   ],
   "source": [
    "\n",
    "\"\"\"\n",
    "https://help.aliyun.com/document_detail/203510.html\n",
    "图像人脸融合\n",
    "图像人脸融合功能可以帮助用户在获得授权的前提下，将图像中的指定的某个人脸，融合进另一人的人脸特征。\n",
    "\"\"\"\n",
    "from aliyunsdkfacebody.request.v20191230.MergeImageFaceRequest import MergeImageFaceRequest\n",
    "\n",
    "\n",
    "\n",
    "request = MergeImageFaceRequest()\n",
    "request.set_accept_format('json')\n",
    "\n",
    "\n",
    "filepath=\"images/qqq.jpg\"\n",
    "\n",
    "\n",
    "def get_url(filepath):\n",
    "    with open(filepath, 'rb') as fileobj:\n",
    "        bucket.put_object(filepath, fileobj)\n",
    "    url=\"https://ocr-yjs.oss-cn-shanghai.aliyuncs.com/\"+filepath\n",
    "    return url\n",
    "\n",
    "url=get_url(filepath)\n",
    "print(url)\n",
    "request.set_UserId(UserId)\n",
    "request.set_TemplateId(TemplateId)\n",
    "request.set_ImageURL(url)\n",
    "\n",
    "response = client.do_action_with_exception(request)\n",
    "response=json.loads(str(response, encoding='utf-8'))\n",
    "print(response)"
   ]
  },
  {
   "cell_type": "code",
   "execution_count": 38,
   "metadata": {},
   "outputs": [
    {
     "data": {
      "text/plain": [
       "'http://vibktprfx-prod-prod-aic-gd-cn-shanghai.oss-cn-shanghai.aliyuncs.com/image-face-fusion/b83ba80b-99a4-4448-8a9c-a29a752a40ab_7b04_20210821-021716.jpg?Expires=1629514036&OSSAccessKeyId=LTAI4FoLmvQ9urWXgSRpDvh1&Signature=Je3SjKEQAXfKmBqWBj580sL6CQw%3D'"
      ]
     },
     "execution_count": 38,
     "metadata": {},
     "output_type": "execute_result"
    }
   ],
   "source": [
    "ImageURL=response[\"Data\"][\"ImageURL\"]\n",
    "\n",
    "ImageURL"
   ]
  },
  {
   "cell_type": "code",
   "execution_count": 16,
   "metadata": {},
   "outputs": [
    {
     "data": {
      "text/plain": [
       "'\\nSharp\\tFloat\\t是\\t1\\t\\n锐化（清晰度）程度，取值范围0~1。越接近1锐化程度越高。\\n\\nSmooth\\tFloat\\t是\\t0.1\\t\\n平滑程度，取值范围0~1。越接近1平滑程度越高。\\n\\nWhite\\tFloat\\t是\\t0.3\\t\\n美白程度，取值范围0~1。越接近1美白程度越高。\\n'"
      ]
     },
     "execution_count": 16,
     "metadata": {},
     "output_type": "execute_result"
    }
   ],
   "source": [
    "\"\"\"\n",
    "UserId\tString\t是\tzhangsan\t\n",
    "人脸模板的用户ID。\n",
    "\n",
    "TemplateId\tString\t是\t6cd509ea-54fa-4730-8e9d-c94cadcda048\t\n",
    "人脸模板的模板ID。\n",
    "\n",
    "ImageURL\tString\t是\thttp://invi-label.oss-cn-shanghai.aliyuncs.com/label/temp/cartoon/test_data/g02.jpeg\t\n",
    "待融合的人脸照片。当前仅支持上海地域的OSS链接，如何生成URL请参见生成URL。\n",
    "\"\"\""
   ]
  },
  {
   "cell_type": "code",
   "execution_count": 39,
   "metadata": {},
   "outputs": [],
   "source": [
    "with open(\"images/图像人脸融合后.jpg\",'wb') as file:\n",
    "    file.write(requests.get(ImageURL).content)"
   ]
  }
 ],
 "metadata": {
  "kernelspec": {
   "display_name": "Python 3",
   "language": "python",
   "name": "python3"
  },
  "language_info": {
   "codemirror_mode": {
    "name": "ipython",
    "version": 3
   },
   "file_extension": ".py",
   "mimetype": "text/x-python",
   "name": "python",
   "nbconvert_exporter": "python",
   "pygments_lexer": "ipython3",
   "version": "3.6.13"
  }
 },
 "nbformat": 4,
 "nbformat_minor": 1
}