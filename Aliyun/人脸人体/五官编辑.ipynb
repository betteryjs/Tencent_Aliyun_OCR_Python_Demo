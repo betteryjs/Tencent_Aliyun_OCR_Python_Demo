{
 "cells": [
  {
   "cell_type": "code",
   "execution_count": 5,
   "metadata": {},
   "outputs": [],
   "source": [
    "import oss2\n",
    "import json\n",
    "import cv2\n",
    "import matplotlib.pyplot as plt\n",
    "%matplotlib inline\n",
    "import numpy as np\n",
    "import requests\n",
    "\n",
    "with open(\"../aliyun_key.json\" ,'r') as key:\n",
    "    AccessKeyDict=json.loads(key.read())\n",
    "AccessKeyId=AccessKeyDict[\"AccessKeyId\"]\n",
    "AccessKeySecret=AccessKeyDict[\"AccessKeySecret\"]\n",
    "auth = oss2.Auth(AccessKeyId, AccessKeySecret)\n",
    "bucket = oss2.Bucket(auth, 'https://oss-cn-shanghai.aliyuncs.com', 'ocr-yjs')\n",
    "from aliyunsdkcore.client import AcsClient\n",
    "from aliyunsdkcore.acs_exception.exceptions import ClientException\n",
    "from aliyunsdkcore.acs_exception.exceptions import ServerException\n",
    "from aliyunsdkcore.auth.credentials import AccessKeyCredential\n",
    "from aliyunsdkcore.auth.credentials import StsTokenCredential\n",
    "credentials = AccessKeyCredential(AccessKeyId, AccessKeySecret)\n",
    "client = AcsClient(region_id='cn-shanghai', credential=credentials)\n",
    "import seaborn as sns"
   ]
  },
  {
   "cell_type": "code",
   "execution_count": 13,
   "metadata": {},
   "outputs": [
    {
     "name": "stdout",
     "output_type": "stream",
     "text": [
      "https://ocr-yjs.oss-cn-shanghai.aliyuncs.com/images/test2.jpg\n",
      "{'RequestId': 'F7A9A1C7-69FE-5567-8F15-EE7711A8B4D8', 'Data': {'ImageURL': 'http://vibktprfx-prod-prod-aic-gd-cn-shanghai.oss-cn-shanghai.aliyuncs.com/face-edit/2303402f-14c6-4480-a47a-c5ef1d0d63b7__710d20210821-011732.jpg?Expires=1629510453&OSSAccessKeyId=LTAI4FoLmvQ9urWXgSRpDvh1&Signature=UxrVh32hrCtRCpng%2B1LJtYIEqZE%3D'}}\n"
     ]
    }
   ],
   "source": [
    "\"\"\"\n",
    "https://help.aliyun.com/document_detail/164973.html\n",
    "五官编辑\n",
    "五官编辑能力可以对人脸的五官进行编辑并返回编辑后的结果图片。例如用户输入目标人脸图、参考人脸图、需要编辑的五官（鼻子、嘴巴、下巴、眼睛、眉毛），\n",
    "接口会将参考人脸图对应的五官替换融合到目标人脸图，最后返回替换融合后的结果图。\n",
    "\"\"\"\n",
    "\n",
    "from aliyunsdkfacebody.request.v20191230.SwapFacialFeaturesRequest import SwapFacialFeaturesRequest\n",
    "\n",
    "request = SwapFacialFeaturesRequest()\n",
    "request.set_accept_format('json')\n",
    "\n",
    "filepath=\"images/test2.jpg\"\n",
    "\n",
    "\n",
    "def get_url(filepath):\n",
    "    with open(filepath, 'rb') as fileobj:\n",
    "        bucket.put_object(filepath, fileobj)\n",
    "    url=\"https://ocr-yjs.oss-cn-shanghai.aliyuncs.com/\"+filepath\n",
    "    return url\n",
    "\n",
    "url=get_url(filepath)   \n",
    "print(url)\n",
    "\n",
    "SourceImageURL=get_url(\"images/SourceImageURL.jpg\")\n",
    "request.set_EditPart(\"eyes\")\n",
    "request.set_TargetImageURL(url) # 参考人脸图像\n",
    "request.set_SourceImageURL(SourceImageURL)\n",
    "\n",
    "response = client.do_action_with_exception(request)\n",
    "response=json.loads(str(response, encoding='utf-8'))\n",
    "print(response)"
   ]
  },
  {
   "cell_type": "code",
   "execution_count": 14,
   "metadata": {},
   "outputs": [
    {
     "data": {
      "text/plain": [
       "'http://vibktprfx-prod-prod-aic-gd-cn-shanghai.oss-cn-shanghai.aliyuncs.com/face-edit/2303402f-14c6-4480-a47a-c5ef1d0d63b7__710d20210821-011732.jpg?Expires=1629510453&OSSAccessKeyId=LTAI4FoLmvQ9urWXgSRpDvh1&Signature=UxrVh32hrCtRCpng%2B1LJtYIEqZE%3D'"
      ]
     },
     "execution_count": 14,
     "metadata": {},
     "output_type": "execute_result"
    }
   ],
   "source": [
    "ImageURL=response[\"Data\"][\"ImageURL\"]\n",
    "\n",
    "ImageURL"
   ]
  },
  {
   "cell_type": "code",
   "execution_count": 16,
   "metadata": {},
   "outputs": [
    {
     "data": {
      "text/plain": [
       "'\\nSharp\\tFloat\\t是\\t1\\t\\n锐化（清晰度）程度，取值范围0~1。越接近1锐化程度越高。\\n\\nSmooth\\tFloat\\t是\\t0.1\\t\\n平滑程度，取值范围0~1。越接近1平滑程度越高。\\n\\nWhite\\tFloat\\t是\\t0.3\\t\\n美白程度，取值范围0~1。越接近1美白程度越高。\\n'"
      ]
     },
     "execution_count": 16,
     "metadata": {},
     "output_type": "execute_result"
    }
   ],
   "source": [
    "\"\"\"\n",
    "SourceImageURL\tString\t否\thttps://viapi-test.oss-cn-shanghai.aliyuncs.com/test-team/facialSource.jpg\t\n",
    "目标人脸图像URL地址。\n",
    "\n",
    "TargetImageURL\tString\t否\thttps://viapi-test.oss-cn-shanghai.aliyuncs.com/test-team/facialtarget.jpg\t\n",
    "参考人脸图像URL地址。接口会将该参考图中的五官内容替换融合到目标人脸图像中。\n",
    "\"\"\""
   ]
  },
  {
   "cell_type": "code",
   "execution_count": 15,
   "metadata": {},
   "outputs": [],
   "source": [
    "with open(\"images/五官编辑后.jpg\",'wb') as file:\n",
    "    file.write(requests.get(ImageURL).content)"
   ]
  }
 ],
 "metadata": {
  "kernelspec": {
   "display_name": "Python 3",
   "language": "python",
   "name": "python3"
  },
  "language_info": {
   "codemirror_mode": {
    "name": "ipython",
    "version": 3
   },
   "file_extension": ".py",
   "mimetype": "text/x-python",
   "name": "python",
   "nbconvert_exporter": "python",
   "pygments_lexer": "ipython3",
   "version": "3.6.13"
  }
 },
 "nbformat": 4,
 "nbformat_minor": 1
}