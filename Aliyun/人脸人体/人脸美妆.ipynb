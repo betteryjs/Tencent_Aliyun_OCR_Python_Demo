{
 "cells": [
  {
   "cell_type": "code",
   "execution_count": 1,
   "metadata": {},
   "outputs": [],
   "source": [
    "import oss2\n",
    "import json\n",
    "import cv2\n",
    "import matplotlib.pyplot as plt\n",
    "%matplotlib inline\n",
    "import numpy as np\n",
    "import requests\n",
    "with open(\"../aliyun_key.json\" ,'r') as key:\n",
    "    AccessKeyDict=json.loads(key.read())\n",
    "AccessKeyId=AccessKeyDict[\"AccessKeyId\"]\n",
    "AccessKeySecret=AccessKeyDict[\"AccessKeySecret\"]\n",
    "auth = oss2.Auth(AccessKeyId, AccessKeySecret)\n",
    "bucket = oss2.Bucket(auth, 'https://oss-cn-shanghai.aliyuncs.com', 'ocr-yjs')\n",
    "from aliyunsdkcore.client import AcsClient\n",
    "from aliyunsdkcore.acs_exception.exceptions import ClientException\n",
    "from aliyunsdkcore.acs_exception.exceptions import ServerException\n",
    "from aliyunsdkcore.auth.credentials import AccessKeyCredential\n",
    "from aliyunsdkcore.auth.credentials import StsTokenCredential\n",
    "credentials = AccessKeyCredential(AccessKeyId, AccessKeySecret)\n",
    "client = AcsClient(region_id='cn-shanghai', credential=credentials)\n",
    "import seaborn as sns"
   ]
  },
  {
   "cell_type": "code",
   "execution_count": 2,
   "metadata": {},
   "outputs": [
    {
     "name": "stdout",
     "output_type": "stream",
     "text": [
      "https://ocr-yjs.oss-cn-shanghai.aliyuncs.com/images/test2.jpg\n",
      "{'RequestId': 'BC29A9E9-AF39-5F0B-A826-AF5DA64CECEE', 'Data': {'ImageURL': 'http://algo-app-taobao-mm-cn-shanghai-prod.oss-cn-shanghai.aliyuncs.com/pixelai-portrait-makeup/2021_02_22/345f672550422da1_test2.jpg?Expires=1629509710&OSSAccessKeyId=LTAI4FoLmvQ9urWXgSRpDvh1&Signature=tbPH9TvO9%2BaEboIaLDXV3m102M0%3D'}}\n"
     ]
    }
   ],
   "source": [
    "\"\"\"\n",
    "https://help.aliyun.com/document_detail/159213.html\n",
    "人脸美妆\n",
    "FaceMakeup可以模拟彩妆，通过添加彩妆素材，进一步提升人脸美化效果。\n",
    "\"\"\"\n",
    "\n",
    "from aliyunsdkfacebody.request.v20191230.FaceMakeupRequest import FaceMakeupRequest\n",
    "\n",
    "request = FaceMakeupRequest()\n",
    "request.set_accept_format('json')\n",
    "\n",
    "filepath=\"images/test2.jpg\"\n",
    "with open(filepath, 'rb') as fileobj:\n",
    "    bucket.put_object(filepath, fileobj)\n",
    "url=\"https://ocr-yjs.oss-cn-shanghai.aliyuncs.com/\"+filepath\n",
    "print(url)\n",
    "request.set_ImageURL(url)\n",
    "\n",
    "request.set_MakeupType(\"whole\")\n",
    "request.set_ResourceType(\"2\")\n",
    "request.set_Strength(0.8)\n",
    "\n",
    "\n",
    "response = client.do_action_with_exception(request)\n",
    "response=json.loads(str(response, encoding='utf-8'))\n",
    "print(response)\n",
    "ImageURL=response[\"Data\"][\"ImageURL\"]"
   ]
  },
  {
   "cell_type": "code",
   "execution_count": 16,
   "metadata": {},
   "outputs": [
    {
     "data": {
      "text/plain": [
       "'\\nSharp\\tFloat\\t是\\t1\\t\\n锐化（清晰度）程度，取值范围0~1。越接近1锐化程度越高。\\n\\nSmooth\\tFloat\\t是\\t0.1\\t\\n平滑程度，取值范围0~1。越接近1平滑程度越高。\\n\\nWhite\\tFloat\\t是\\t0.3\\t\\n美白程度，取值范围0~1。越接近1美白程度越高。\\n'"
      ]
     },
     "execution_count": 16,
     "metadata": {},
     "output_type": "execute_result"
    }
   ],
   "source": [
    "\"\"\"\n",
    "MakeupType\tString\t是\twhole\t\n",
    "美妆类型，当前支持whole（整妆）。\n",
    "\n",
    "ResourceType\tString\t是\t0\t\n",
    "美妆使用的风格，具体包括：0（whole）、1（基础妆）、2（少女妆）、3（活力妆）、4（优雅妆）、5（魅惑妆）、6（梅子妆）。\n",
    "\n",
    "Strength\tFloat\t是\t1\t\n",
    "美妆强度，取值范围0～1。\n",
    "\"\"\""
   ]
  },
  {
   "cell_type": "code",
   "execution_count": 3,
   "metadata": {},
   "outputs": [],
   "source": [
    "with open(\"images/人脸美妆后.jpg\",'wb') as file:\n",
    "    file.write(requests.get(ImageURL).content)"
   ]
  }
 ],
 "metadata": {
  "kernelspec": {
   "display_name": "Python 3",
   "language": "python",
   "name": "python3"
  },
  "language_info": {
   "codemirror_mode": {
    "name": "ipython",
    "version": 3
   },
   "file_extension": ".py",
   "mimetype": "text/x-python",
   "name": "python",
   "nbconvert_exporter": "python",
   "pygments_lexer": "ipython3",
   "version": "3.6.13"
  }
 },
 "nbformat": 4,
 "nbformat_minor": 1
}